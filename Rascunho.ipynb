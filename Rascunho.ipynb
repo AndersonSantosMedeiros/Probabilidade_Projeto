{
 "cells": [
  {
   "cell_type": "code",
   "execution_count": 1,
   "metadata": {
    "collapsed": true
   },
   "outputs": [],
   "source": [
    "import seaborn as sns \n",
    "import pandas as pd\n",
    "import numpy as np\n",
    "import matplotlib.pyplot as plt"
   ]
  },
  {
   "cell_type": "code",
   "execution_count": 2,
   "metadata": {
    "collapsed": true
   },
   "outputs": [],
   "source": [
    "#Servidores\n",
    "servidores_url = 'http://bit.do/servidores_ufrn'\n",
    "ingressantes = 'http://bit.do/ingressantes_2017'"
   ]
  },
  {
   "cell_type": "code",
   "execution_count": 3,
   "metadata": {
    "collapsed": true
   },
   "outputs": [],
   "source": [
    "#Leitura das colunas que serão úteis\n",
    "servidores = pd.read_csv(servidores_url, sep=';', usecols = ['nome', 'situacao_servidor', 'unidade', 'admissao'])"
   ]
  },
  {
   "cell_type": "code",
   "execution_count": 4,
   "metadata": {
    "collapsed": true
   },
   "outputs": [],
   "source": [
    "servidores.dropna(inplace=True)"
   ]
  },
  {
   "cell_type": "code",
   "execution_count": 5,
   "metadata": {},
   "outputs": [
    {
     "data": {
      "text/html": [
       "<div>\n",
       "<style>\n",
       "    .dataframe thead tr:only-child th {\n",
       "        text-align: right;\n",
       "    }\n",
       "\n",
       "    .dataframe thead th {\n",
       "        text-align: left;\n",
       "    }\n",
       "\n",
       "    .dataframe tbody tr th {\n",
       "        vertical-align: top;\n",
       "    }\n",
       "</style>\n",
       "<table border=\"1\" class=\"dataframe\">\n",
       "  <thead>\n",
       "    <tr style=\"text-align: right;\">\n",
       "      <th></th>\n",
       "      <th>nome</th>\n",
       "      <th>situacao_servidor</th>\n",
       "      <th>unidade</th>\n",
       "      <th>admissao</th>\n",
       "    </tr>\n",
       "  </thead>\n",
       "  <tbody>\n",
       "    <tr>\n",
       "      <th>0</th>\n",
       "      <td>ABIATA MARTINS</td>\n",
       "      <td>Aposentado</td>\n",
       "      <td>DEPARTAMENTO DE PESSOAL PENSIONISTA CIVIS</td>\n",
       "      <td>1981-10-06 00:00:00</td>\n",
       "    </tr>\n",
       "    <tr>\n",
       "      <th>1</th>\n",
       "      <td>ABIGAIL CALDAS BATISTA GONDIM</td>\n",
       "      <td>Aposentado</td>\n",
       "      <td>HOSPITAL UNIVERSITÁRIO ONOFRE LOPES</td>\n",
       "      <td>1979-04-01 00:00:00</td>\n",
       "    </tr>\n",
       "    <tr>\n",
       "      <th>2</th>\n",
       "      <td>ABIGAIL DE ANDRADE SOUZA</td>\n",
       "      <td>Aposentado</td>\n",
       "      <td>DAP/PROGESP - DIRETORIA DE ADMINISTRACAO DE PE...</td>\n",
       "      <td>1969-10-21 00:00:00</td>\n",
       "    </tr>\n",
       "  </tbody>\n",
       "</table>\n",
       "</div>"
      ],
      "text/plain": [
       "                            nome situacao_servidor  \\\n",
       "0                 ABIATA MARTINS        Aposentado   \n",
       "1  ABIGAIL CALDAS BATISTA GONDIM        Aposentado   \n",
       "2       ABIGAIL DE ANDRADE SOUZA        Aposentado   \n",
       "\n",
       "                                             unidade             admissao  \n",
       "0          DEPARTAMENTO DE PESSOAL PENSIONISTA CIVIS  1981-10-06 00:00:00  \n",
       "1                HOSPITAL UNIVERSITÁRIO ONOFRE LOPES  1979-04-01 00:00:00  \n",
       "2  DAP/PROGESP - DIRETORIA DE ADMINISTRACAO DE PE...  1969-10-21 00:00:00  "
      ]
     },
     "execution_count": 5,
     "metadata": {},
     "output_type": "execute_result"
    }
   ],
   "source": [
    "servidores.loc[0:2]"
   ]
  },
  {
   "cell_type": "code",
   "execution_count": 6,
   "metadata": {
    "collapsed": true
   },
   "outputs": [],
   "source": [
    "#Devolvemos o valor do ano pela função Split\n",
    "servidores['admissao'] = servidores.admissao.str.split('-').str[0]"
   ]
  },
  {
   "cell_type": "code",
   "execution_count": 7,
   "metadata": {
    "collapsed": true
   },
   "outputs": [],
   "source": [
    "servidores['admissao'] = servidores['admissao'].astype(int)"
   ]
  },
  {
   "cell_type": "code",
   "execution_count": null,
   "metadata": {
    "collapsed": true
   },
   "outputs": [],
   "source": [
    "!conda install -c r rpy2 --y"
   ]
  },
  {
   "cell_type": "code",
   "execution_count": 8,
   "metadata": {},
   "outputs": [
    {
     "ename": "ModuleNotFoundError",
     "evalue": "No module named 'rpy2'",
     "output_type": "error",
     "traceback": [
      "\u001b[0;31m---------------------------------------------------------------------------\u001b[0m",
      "\u001b[0;31mModuleNotFoundError\u001b[0m                       Traceback (most recent call last)",
      "\u001b[0;32m<ipython-input-8-f23095ad50ba>\u001b[0m in \u001b[0;36m<module>\u001b[0;34m()\u001b[0m\n\u001b[0;32m----> 1\u001b[0;31m \u001b[0;32mimport\u001b[0m \u001b[0mrpy2\u001b[0m\u001b[0;34m.\u001b[0m\u001b[0mrobjects\u001b[0m \u001b[0;32mas\u001b[0m \u001b[0mrobjects\u001b[0m\u001b[0;34m\u001b[0m\u001b[0m\n\u001b[0m\u001b[1;32m      2\u001b[0m \u001b[0mget_ipython\u001b[0m\u001b[0;34m(\u001b[0m\u001b[0;34m)\u001b[0m\u001b[0;34m.\u001b[0m\u001b[0mmagic\u001b[0m\u001b[0;34m(\u001b[0m\u001b[0;34m'load_ext rpy2.ipython'\u001b[0m\u001b[0;34m)\u001b[0m\u001b[0;34m\u001b[0m\u001b[0m\n",
      "\u001b[0;31mModuleNotFoundError\u001b[0m: No module named 'rpy2'"
     ]
    }
   ],
   "source": [
    "import rpy2.robjects as robjects\n",
    "%load_ext rpy2.ipython"
   ]
  },
  {
   "cell_type": "code",
   "execution_count": 57,
   "metadata": {
    "collapsed": true
   },
   "outputs": [],
   "source": [
    "%%R \n",
    "suppressMessages(library(genderBR))"
   ]
  },
  {
   "cell_type": "code",
   "execution_count": 58,
   "metadata": {
    "collapsed": true
   },
   "outputs": [],
   "source": [
    "generos = []\n",
    "for i in servidores.nome:\n",
    "    primeiro_nome = i.split()[0]\n",
    "    genero = robjects.r.get_gender(primeiro_nome)\n",
    "    genero = genero.r_repr()\n",
    "    genero = genero.strip('\\\"')\n",
    "    if genero.startswith('NA'):\n",
    "        genero = None\n",
    "    generos.append(genero)\n",
    "    \n",
    "servidores[\"generos\"] = generos"
   ]
  },
  {
   "cell_type": "code",
   "execution_count": 59,
   "metadata": {
    "scrolled": true
   },
   "outputs": [
    {
     "data": {
      "text/html": [
       "<div>\n",
       "<style scoped>\n",
       "    .dataframe tbody tr th:only-of-type {\n",
       "        vertical-align: middle;\n",
       "    }\n",
       "\n",
       "    .dataframe tbody tr th {\n",
       "        vertical-align: top;\n",
       "    }\n",
       "\n",
       "    .dataframe thead th {\n",
       "        text-align: right;\n",
       "    }\n",
       "</style>\n",
       "<table border=\"1\" class=\"dataframe\">\n",
       "  <thead>\n",
       "    <tr style=\"text-align: right;\">\n",
       "      <th></th>\n",
       "      <th>nome</th>\n",
       "      <th>situacao_servidor</th>\n",
       "      <th>unidade</th>\n",
       "      <th>admissao</th>\n",
       "      <th>generos</th>\n",
       "    </tr>\n",
       "  </thead>\n",
       "  <tbody>\n",
       "    <tr>\n",
       "      <th>1</th>\n",
       "      <td>ABIGAIL CALDAS BATISTA GONDIM</td>\n",
       "      <td>Aposentado</td>\n",
       "      <td>HOSPITAL UNIVERSITÁRIO ONOFRE LOPES</td>\n",
       "      <td>1979</td>\n",
       "      <td>Female</td>\n",
       "    </tr>\n",
       "    <tr>\n",
       "      <th>2</th>\n",
       "      <td>ABIGAIL DE ANDRADE SOUZA</td>\n",
       "      <td>Aposentado</td>\n",
       "      <td>DAP/PROGESP - DIRETORIA DE ADMINISTRACAO DE PE...</td>\n",
       "      <td>1969</td>\n",
       "      <td>Female</td>\n",
       "    </tr>\n",
       "    <tr>\n",
       "      <th>3</th>\n",
       "      <td>ABIGAIL MOURA</td>\n",
       "      <td>Aposentado</td>\n",
       "      <td>DEPARTAMENTO DE PESSOAL PENSIONISTA CIVIS</td>\n",
       "      <td>1976</td>\n",
       "      <td>Female</td>\n",
       "    </tr>\n",
       "    <tr>\n",
       "      <th>6</th>\n",
       "      <td>ACELINA ISABEL BENVINDO NERI</td>\n",
       "      <td>Aposentado</td>\n",
       "      <td>DEPARTAMENTO DE PESSOAL PENSIONISTA CIVIS</td>\n",
       "      <td>1979</td>\n",
       "      <td>Female</td>\n",
       "    </tr>\n",
       "    <tr>\n",
       "      <th>7</th>\n",
       "      <td>ADAHYR FLORENCIO SILVA</td>\n",
       "      <td>Aposentado</td>\n",
       "      <td>DAP/PROGESP - DIRETORIA DE ADMINISTRACAO DE PE...</td>\n",
       "      <td>1968</td>\n",
       "      <td>Female</td>\n",
       "    </tr>\n",
       "  </tbody>\n",
       "</table>\n",
       "</div>"
      ],
      "text/plain": [
       "                            nome situacao_servidor  \\\n",
       "1  ABIGAIL CALDAS BATISTA GONDIM        Aposentado   \n",
       "2       ABIGAIL DE ANDRADE SOUZA        Aposentado   \n",
       "3                  ABIGAIL MOURA        Aposentado   \n",
       "6   ACELINA ISABEL BENVINDO NERI        Aposentado   \n",
       "7         ADAHYR FLORENCIO SILVA        Aposentado   \n",
       "\n",
       "                                             unidade  admissao generos  \n",
       "1                HOSPITAL UNIVERSITÁRIO ONOFRE LOPES      1979  Female  \n",
       "2  DAP/PROGESP - DIRETORIA DE ADMINISTRACAO DE PE...      1969  Female  \n",
       "3          DEPARTAMENTO DE PESSOAL PENSIONISTA CIVIS      1976  Female  \n",
       "6          DEPARTAMENTO DE PESSOAL PENSIONISTA CIVIS      1979  Female  \n",
       "7  DAP/PROGESP - DIRETORIA DE ADMINISTRACAO DE PE...      1968  Female  "
      ]
     },
     "execution_count": 59,
     "metadata": {},
     "output_type": "execute_result"
    }
   ],
   "source": [
    "mulheres_info = servidores[servidores.generos == 'Female']\n",
    "mulheres_info.head()"
   ]
  },
  {
   "cell_type": "code",
   "execution_count": 60,
   "metadata": {},
   "outputs": [
    {
     "data": {
      "text/html": [
       "<div>\n",
       "<style scoped>\n",
       "    .dataframe tbody tr th:only-of-type {\n",
       "        vertical-align: middle;\n",
       "    }\n",
       "\n",
       "    .dataframe tbody tr th {\n",
       "        vertical-align: top;\n",
       "    }\n",
       "\n",
       "    .dataframe thead th {\n",
       "        text-align: right;\n",
       "    }\n",
       "</style>\n",
       "<table border=\"1\" class=\"dataframe\">\n",
       "  <thead>\n",
       "    <tr style=\"text-align: right;\">\n",
       "      <th></th>\n",
       "      <th>generos</th>\n",
       "    </tr>\n",
       "    <tr>\n",
       "      <th>admissao</th>\n",
       "      <th></th>\n",
       "    </tr>\n",
       "  </thead>\n",
       "  <tbody>\n",
       "    <tr>\n",
       "      <th>1943</th>\n",
       "      <td>1</td>\n",
       "    </tr>\n",
       "    <tr>\n",
       "      <th>1950</th>\n",
       "      <td>4</td>\n",
       "    </tr>\n",
       "    <tr>\n",
       "      <th>1952</th>\n",
       "      <td>5</td>\n",
       "    </tr>\n",
       "    <tr>\n",
       "      <th>1953</th>\n",
       "      <td>1</td>\n",
       "    </tr>\n",
       "    <tr>\n",
       "      <th>1954</th>\n",
       "      <td>18</td>\n",
       "    </tr>\n",
       "  </tbody>\n",
       "</table>\n",
       "</div>"
      ],
      "text/plain": [
       "          generos\n",
       "admissao         \n",
       "1943            1\n",
       "1950            4\n",
       "1952            5\n",
       "1953            1\n",
       "1954           18"
      ]
     },
     "execution_count": 60,
     "metadata": {},
     "output_type": "execute_result"
    }
   ],
   "source": [
    "total_admissoes = servidores.pivot_table(index='admissao', values='generos', aggfunc='count')\n",
    "total_admissoes.head()"
   ]
  },
  {
   "cell_type": "code",
   "execution_count": 62,
   "metadata": {},
   "outputs": [
    {
     "data": {
      "text/html": [
       "<div>\n",
       "<style scoped>\n",
       "    .dataframe tbody tr th:only-of-type {\n",
       "        vertical-align: middle;\n",
       "    }\n",
       "\n",
       "    .dataframe tbody tr th {\n",
       "        vertical-align: top;\n",
       "    }\n",
       "\n",
       "    .dataframe thead th {\n",
       "        text-align: right;\n",
       "    }\n",
       "</style>\n",
       "<table border=\"1\" class=\"dataframe\">\n",
       "  <thead>\n",
       "    <tr style=\"text-align: right;\">\n",
       "      <th></th>\n",
       "      <th>generos</th>\n",
       "    </tr>\n",
       "    <tr>\n",
       "      <th>admissao</th>\n",
       "      <th></th>\n",
       "    </tr>\n",
       "  </thead>\n",
       "  <tbody>\n",
       "    <tr>\n",
       "      <th>1950</th>\n",
       "      <td>4</td>\n",
       "    </tr>\n",
       "    <tr>\n",
       "      <th>1952</th>\n",
       "      <td>5</td>\n",
       "    </tr>\n",
       "    <tr>\n",
       "      <th>1953</th>\n",
       "      <td>1</td>\n",
       "    </tr>\n",
       "    <tr>\n",
       "      <th>1954</th>\n",
       "      <td>13</td>\n",
       "    </tr>\n",
       "    <tr>\n",
       "      <th>1955</th>\n",
       "      <td>25</td>\n",
       "    </tr>\n",
       "  </tbody>\n",
       "</table>\n",
       "</div>"
      ],
      "text/plain": [
       "          generos\n",
       "admissao         \n",
       "1950            4\n",
       "1952            5\n",
       "1953            1\n",
       "1954           13\n",
       "1955           25"
      ]
     },
     "execution_count": 62,
     "metadata": {},
     "output_type": "execute_result"
    }
   ],
   "source": [
    "#numero de mulheres admitidas por ano\n",
    "admissoes_mulheres = mulheres_info.pivot_table(index='admissao', values='generos', aggfunc='count') \n",
    "admissoes_mulheres.head()"
   ]
  },
  {
   "cell_type": "code",
   "execution_count": 76,
   "metadata": {},
   "outputs": [
    {
     "data": {
      "text/html": [
       "<div>\n",
       "<style scoped>\n",
       "    .dataframe tbody tr th:only-of-type {\n",
       "        vertical-align: middle;\n",
       "    }\n",
       "\n",
       "    .dataframe tbody tr th {\n",
       "        vertical-align: top;\n",
       "    }\n",
       "\n",
       "    .dataframe thead th {\n",
       "        text-align: right;\n",
       "    }\n",
       "</style>\n",
       "<table border=\"1\" class=\"dataframe\">\n",
       "  <thead>\n",
       "    <tr style=\"text-align: right;\">\n",
       "      <th></th>\n",
       "      <th>admissao</th>\n",
       "      <th>generos</th>\n",
       "    </tr>\n",
       "  </thead>\n",
       "  <tbody>\n",
       "    <tr>\n",
       "      <th>0</th>\n",
       "      <td>1950</td>\n",
       "      <td>100.000000</td>\n",
       "    </tr>\n",
       "    <tr>\n",
       "      <th>1</th>\n",
       "      <td>1952</td>\n",
       "      <td>100.000000</td>\n",
       "    </tr>\n",
       "    <tr>\n",
       "      <th>2</th>\n",
       "      <td>1953</td>\n",
       "      <td>100.000000</td>\n",
       "    </tr>\n",
       "    <tr>\n",
       "      <th>3</th>\n",
       "      <td>1954</td>\n",
       "      <td>72.222222</td>\n",
       "    </tr>\n",
       "    <tr>\n",
       "      <th>4</th>\n",
       "      <td>1955</td>\n",
       "      <td>86.206897</td>\n",
       "    </tr>\n",
       "  </tbody>\n",
       "</table>\n",
       "</div>"
      ],
      "text/plain": [
       "   admissao     generos\n",
       "0      1950  100.000000\n",
       "1      1952  100.000000\n",
       "2      1953  100.000000\n",
       "3      1954   72.222222\n",
       "4      1955   86.206897"
      ]
     },
     "execution_count": 76,
     "metadata": {},
     "output_type": "execute_result"
    }
   ],
   "source": [
    "porcentagem_mulheres = (admissoes_mulheres/total_admissoes)*100\n",
    "porcentagem_mulheres.dropna(inplace=True)\n",
    "porcentagem_mulheres.reset_index(inplace=True)\n",
    "porcentagem_mulheres.head()"
   ]
  },
  {
   "cell_type": "code",
   "execution_count": 79,
   "metadata": {},
   "outputs": [
    {
     "data": {
      "image/png": "[encoded data removed]",
      "text/plain": [
       "<Figure size 432x288 with 1 Axes>"
      ]
     },
     "metadata": {},
     "output_type": "display_data"
    }
   ],
   "source": [
    "plt.plot(porcentagem_mulheres.admissao,porcentagem_mulheres.generos, c='red',label='Feminino')\n",
    "plt.plot(porcentagem_mulheres.admissao,100 - porcentagem_mulheres.generos, c = 'blue',label='Masculino')\n",
    "plt.legend(loc='best')\n",
    "plt.xlabel(\"Ano de Admissão\")\n",
    "plt.ylabel(\"%\")\n",
    "plt.title(\"Percentual de Admissões Anuais da UFRN por Sexo\")\n",
    "plt.show()"
   ]
  },
  {
   "cell_type": "code",
   "execution_count": 7,
   "metadata": {
    "collapsed": true
   },
   "outputs": [],
   "source": [
    "#Filtramos o dataframe, permanecendo assim apenas os servidores ativos\n",
    "servidores = servidores[servidores['situacao_servidor'] == 'Ativo Permanente']"
   ]
  },
  {
   "cell_type": "code",
   "execution_count": 9,
   "metadata": {
    "scrolled": false
   },
   "outputs": [
    {
     "data": {
      "image/png": "[encoded data removed]",
      "text/plain": [
       "<Figure size 432x288 with 1 Axes>"
      ]
     },
     "metadata": {},
     "output_type": "display_data"
    }
   ],
   "source": [
    "#Número de funcionário ativos da UFRN de cada ano\n",
    "fig, ax = plt.subplots()\n",
    "plt.title(\"Numero de Funcionários Ativos da UFRN Pelo Ano de Ingresso\")\n",
    "ax.hist(servidores['admissao'], bins = 58, range=(1968,2018))\n",
    "plt.show()"
   ]
  },
  {
   "cell_type": "code",
   "execution_count": 13,
   "metadata": {},
   "outputs": [
    {
     "data": {
      "text/html": [
       "<div>\n",
       "<style scoped>\n",
       "    .dataframe tbody tr th:only-of-type {\n",
       "        vertical-align: middle;\n",
       "    }\n",
       "\n",
       "    .dataframe tbody tr th {\n",
       "        vertical-align: top;\n",
       "    }\n",
       "\n",
       "    .dataframe thead th {\n",
       "        text-align: right;\n",
       "    }\n",
       "</style>\n",
       "<table border=\"1\" class=\"dataframe\">\n",
       "  <thead>\n",
       "    <tr style=\"text-align: right;\">\n",
       "      <th></th>\n",
       "      <th>nome</th>\n",
       "      <th>situacao_servidor</th>\n",
       "      <th>unidade</th>\n",
       "      <th>admissao</th>\n",
       "      <th>generos</th>\n",
       "    </tr>\n",
       "  </thead>\n",
       "  <tbody>\n",
       "    <tr>\n",
       "      <th>4738</th>\n",
       "      <td>ABDO FARRET NETO</td>\n",
       "      <td>Ativo Permanente</td>\n",
       "      <td>DEPARTAMENTO DE MEDICINA INTEGRADA</td>\n",
       "      <td>2009</td>\n",
       "      <td>Male</td>\n",
       "    </tr>\n",
       "    <tr>\n",
       "      <th>4739</th>\n",
       "      <td>ABMAEL BEZERRA DE OLIVEIRA</td>\n",
       "      <td>Ativo Permanente</td>\n",
       "      <td>DEPARTAMENTO DE ENGENHARIA ELÉTRICA</td>\n",
       "      <td>1973</td>\n",
       "      <td>Male</td>\n",
       "    </tr>\n",
       "    <tr>\n",
       "      <th>4740</th>\n",
       "      <td>ABNER CARLOS COSTA DE MELO</td>\n",
       "      <td>Ativo Permanente</td>\n",
       "      <td>DEPARTAMENTO DE FÍSICA TEÓRICA E EXPERIMENTAL</td>\n",
       "      <td>2014</td>\n",
       "      <td>Male</td>\n",
       "    </tr>\n",
       "    <tr>\n",
       "      <th>4741</th>\n",
       "      <td>ABRAHAO SANDERSON NUNES FERNANDES DA SILVA</td>\n",
       "      <td>Ativo Permanente</td>\n",
       "      <td>CERES - DEPARTAMENTO DE HISTÓRIA</td>\n",
       "      <td>2016</td>\n",
       "      <td>Male</td>\n",
       "    </tr>\n",
       "    <tr>\n",
       "      <th>4742</th>\n",
       "      <td>ACACIA JESSICA MAIA DE MOURA</td>\n",
       "      <td>Ativo Permanente</td>\n",
       "      <td>ESCOLA AGRÍCOLA DE JUNDIAÍ</td>\n",
       "      <td>2013</td>\n",
       "      <td>Female</td>\n",
       "    </tr>\n",
       "  </tbody>\n",
       "</table>\n",
       "</div>"
      ],
      "text/plain": [
       "                                            nome situacao_servidor  \\\n",
       "4738                            ABDO FARRET NETO  Ativo Permanente   \n",
       "4739                  ABMAEL BEZERRA DE OLIVEIRA  Ativo Permanente   \n",
       "4740                  ABNER CARLOS COSTA DE MELO  Ativo Permanente   \n",
       "4741  ABRAHAO SANDERSON NUNES FERNANDES DA SILVA  Ativo Permanente   \n",
       "4742                ACACIA JESSICA MAIA DE MOURA  Ativo Permanente   \n",
       "\n",
       "                                            unidade  admissao generos  \n",
       "4738             DEPARTAMENTO DE MEDICINA INTEGRADA      2009    Male  \n",
       "4739            DEPARTAMENTO DE ENGENHARIA ELÉTRICA      1973    Male  \n",
       "4740  DEPARTAMENTO DE FÍSICA TEÓRICA E EXPERIMENTAL      2014    Male  \n",
       "4741               CERES - DEPARTAMENTO DE HISTÓRIA      2016    Male  \n",
       "4742                     ESCOLA AGRÍCOLA DE JUNDIAÍ      2013  Female  "
      ]
     },
     "execution_count": 13,
     "metadata": {},
     "output_type": "execute_result"
    }
   ],
   "source": [
    "servidores.head()"
   ]
  },
  {
   "cell_type": "code",
   "execution_count": 14,
   "metadata": {
    "scrolled": true
   },
   "outputs": [
    {
     "data": {
      "text/plain": [
       "Male      2735\n",
       "Female    2393\n",
       "Name: generos, dtype: int64"
      ]
     },
     "execution_count": 14,
     "metadata": {},
     "output_type": "execute_result"
    }
   ],
   "source": [
    "#Difença em quantidade no numero de servidores da UFRN de ambos os sexos\n",
    "servidores.generos.value_counts()"
   ]
  },
  {
   "cell_type": "code",
   "execution_count": 27,
   "metadata": {
    "collapsed": true
   },
   "outputs": [],
   "source": [
    "servidores_imd = servidores[servidores.unidade == 'INSTITUTO METROPOLE DIGITAL']"
   ]
  },
  {
   "cell_type": "code",
   "execution_count": 34,
   "metadata": {},
   "outputs": [
    {
     "data": {
      "text/html": [
       "<div>\n",
       "<style scoped>\n",
       "    .dataframe tbody tr th:only-of-type {\n",
       "        vertical-align: middle;\n",
       "    }\n",
       "\n",
       "    .dataframe tbody tr th {\n",
       "        vertical-align: top;\n",
       "    }\n",
       "\n",
       "    .dataframe thead th {\n",
       "        text-align: right;\n",
       "    }\n",
       "</style>\n",
       "<table border=\"1\" class=\"dataframe\">\n",
       "  <thead>\n",
       "    <tr style=\"text-align: right;\">\n",
       "      <th></th>\n",
       "      <th>nome</th>\n",
       "      <th>situacao_servidor</th>\n",
       "      <th>unidade</th>\n",
       "      <th>admissao</th>\n",
       "      <th>generos</th>\n",
       "    </tr>\n",
       "  </thead>\n",
       "  <tbody>\n",
       "    <tr>\n",
       "      <th>4777</th>\n",
       "      <td>ADJA FERREIRA DE ANDRADE</td>\n",
       "      <td>Ativo Permanente</td>\n",
       "      <td>INSTITUTO METROPOLE DIGITAL</td>\n",
       "      <td>2012</td>\n",
       "      <td>Female</td>\n",
       "    </tr>\n",
       "    <tr>\n",
       "      <th>4873</th>\n",
       "      <td>ALDO CARIELO DO NASCIMENTO FILHO</td>\n",
       "      <td>Ativo Permanente</td>\n",
       "      <td>INSTITUTO METROPOLE DIGITAL</td>\n",
       "      <td>2014</td>\n",
       "      <td>Male</td>\n",
       "    </tr>\n",
       "    <tr>\n",
       "      <th>4953</th>\n",
       "      <td>ALLANA DE CARVALHO ARAUJO</td>\n",
       "      <td>Ativo Permanente</td>\n",
       "      <td>INSTITUTO METROPOLE DIGITAL</td>\n",
       "      <td>2018</td>\n",
       "      <td>Female</td>\n",
       "    </tr>\n",
       "    <tr>\n",
       "      <th>4967</th>\n",
       "      <td>ALUIZIO FERREIRA DA ROCHA NETO</td>\n",
       "      <td>Ativo Permanente</td>\n",
       "      <td>INSTITUTO METROPOLE DIGITAL</td>\n",
       "      <td>2015</td>\n",
       "      <td>Male</td>\n",
       "    </tr>\n",
       "    <tr>\n",
       "      <th>4979</th>\n",
       "      <td>ALYSON MATHEUS DE CARVALHO SOUZA</td>\n",
       "      <td>Ativo Permanente</td>\n",
       "      <td>INSTITUTO METROPOLE DIGITAL</td>\n",
       "      <td>2014</td>\n",
       "      <td>Male</td>\n",
       "    </tr>\n",
       "  </tbody>\n",
       "</table>\n",
       "</div>"
      ],
      "text/plain": [
       "                                  nome situacao_servidor  \\\n",
       "4777          ADJA FERREIRA DE ANDRADE  Ativo Permanente   \n",
       "4873  ALDO CARIELO DO NASCIMENTO FILHO  Ativo Permanente   \n",
       "4953         ALLANA DE CARVALHO ARAUJO  Ativo Permanente   \n",
       "4967    ALUIZIO FERREIRA DA ROCHA NETO  Ativo Permanente   \n",
       "4979  ALYSON MATHEUS DE CARVALHO SOUZA  Ativo Permanente   \n",
       "\n",
       "                          unidade  admissao generos  \n",
       "4777  INSTITUTO METROPOLE DIGITAL      2012  Female  \n",
       "4873  INSTITUTO METROPOLE DIGITAL      2014    Male  \n",
       "4953  INSTITUTO METROPOLE DIGITAL      2018  Female  \n",
       "4967  INSTITUTO METROPOLE DIGITAL      2015    Male  \n",
       "4979  INSTITUTO METROPOLE DIGITAL      2014    Male  "
      ]
     },
     "execution_count": 34,
     "metadata": {},
     "output_type": "execute_result"
    }
   ],
   "source": [
    "servidores_imd.head()"
   ]
  },
  {
   "cell_type": "code",
   "execution_count": 29,
   "metadata": {},
   "outputs": [
    {
     "data": {
      "text/plain": [
       "Male      61\n",
       "Female    19\n",
       "Name: generos, dtype: int64"
      ]
     },
     "execution_count": 29,
     "metadata": {},
     "output_type": "execute_result"
    }
   ],
   "source": [
    "#Diferença no numero de servidores do IMD de ambos os sexos\n",
    "servidores_imd.generos.value_counts()"
   ]
  }
 ],
 "metadata": {
  "kernelspec": {
   "display_name": "Python 3",
   "language": "python",
   "name": "python3"
  },
  "language_info": {
   "codemirror_mode": {
    "name": "ipython",
    "version": 3
   },
   "file_extension": ".py",
   "mimetype": "text/x-python",
   "name": "python",
   "nbconvert_exporter": "python",
   "pygments_lexer": "ipython3",
   "version": "3.6.2"
  }
 },
 "nbformat": 4,
 "nbformat_minor": 2
}
