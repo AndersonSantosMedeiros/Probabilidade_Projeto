{
 "cells": [
  {
   "cell_type": "markdown",
   "metadata": {},
   "source": [
    "# Análise Sobre a Diferença de Gênero na UFRN"
   ]
  },
  {
   "cell_type": "markdown",
   "metadata": {},
   "source": [
    "Projeto I - Segunda Unidade"
   ]
  },
  {
   "cell_type": "markdown",
   "metadata": {},
   "source": [
    "Alunos:\n",
    "- Noé Fernandes Carvalho Pessoa\n",
    "- Giovanne dos Santos\n",
    "- Kevin Wallacy"
   ]
  },
  {
   "cell_type": "markdown",
   "metadata": {},
   "source": [
    " "
   ]
  },
  {
   "cell_type": "markdown",
   "metadata": {},
   "source": [
    " "
   ]
  },
  {
   "cell_type": "markdown",
   "metadata": {},
   "source": [
    "Nesse estudo, temos a missão de realizar uma análise sobre a diferença de gênero entre servidores, alunos e professores da\n",
    "UFRN.\n",
    "Por primeiro, analisaremos a diferença de gênero entre os servidores."
   ]
  },
  {
   "cell_type": "markdown",
   "metadata": {},
   "source": [
    "Antes de tudo, adicionamos as bibliotecas necessárias para a manipulação dos dados."
   ]
  },
  {
   "cell_type": "code",
   "execution_count": 1,
   "metadata": {},
   "outputs": [],
   "source": [
    "import seaborn as sns \n",
    "import pandas as pd\n",
    "import numpy as np\n",
    "import matplotlib.pyplot as plt"
   ]
  },
  {
   "cell_type": "markdown",
   "metadata": {},
   "source": [
    "Logo depois, atribuimos os links dos arquivos às variáveis servidores_url e discentes que serão posteriormente usadas.\n",
    "Atribuimos o arquivo lido e as colunas úteis a variável servidores. Também é interessante usar a função dropna para retirar\n",
    "as linhas com dados faltantes."
   ]
  },
  {
   "cell_type": "code",
   "execution_count": 5,
   "metadata": {},
   "outputs": [],
   "source": [
    "servidores_url = 'http://bit.do/servidores_ufrn'\n",
    "servidores = pd.read_csv(servidores_url, sep=';', usecols = ['nome', 'categoria', 'situacao_servidor', 'unidade', 'admissao'])"
   ]
  },
  {
   "cell_type": "markdown",
   "metadata": {},
   "source": [
    "Nossa intenção agora é descobrir o número de admissões anuais da UFRN por gênero desde os primeiros registros até o ano\n",
    "de 2018. Contudo, é possível perceber que a coluna admissao está em formato de string. Portanto, utilizamos a função \n",
    "str.split para retornar ao dataframe servidores a primeira posição da lista de strings gerada, que será o ano. Logo \n",
    "depois usamos a função astype para converter o valor do ano para inteiro."
   ]
  },
  {
   "cell_type": "code",
   "execution_count": 6,
   "metadata": {},
   "outputs": [
    {
     "data": {
      "text/html": [
       "<div>\n",
       "<style scoped>\n",
       "    .dataframe tbody tr th:only-of-type {\n",
       "        vertical-align: middle;\n",
       "    }\n",
       "\n",
       "    .dataframe tbody tr th {\n",
       "        vertical-align: top;\n",
       "    }\n",
       "\n",
       "    .dataframe thead th {\n",
       "        text-align: right;\n",
       "    }\n",
       "</style>\n",
       "<table border=\"1\" class=\"dataframe\">\n",
       "  <thead>\n",
       "    <tr style=\"text-align: right;\">\n",
       "      <th></th>\n",
       "      <th>nome</th>\n",
       "      <th>situacao_servidor</th>\n",
       "      <th>unidade</th>\n",
       "      <th>admissao</th>\n",
       "    </tr>\n",
       "  </thead>\n",
       "  <tbody>\n",
       "    <tr>\n",
       "      <th>0</th>\n",
       "      <td>ABIATA MARTINS</td>\n",
       "      <td>Aposentado</td>\n",
       "      <td>DEPARTAMENTO DE PESSOAL PENSIONISTA CIVIS</td>\n",
       "      <td>1981-10-06 00:00:00</td>\n",
       "    </tr>\n",
       "    <tr>\n",
       "      <th>1</th>\n",
       "      <td>ABIGAIL CALDAS BATISTA GONDIM</td>\n",
       "      <td>Aposentado</td>\n",
       "      <td>HOSPITAL UNIVERSITÁRIO ONOFRE LOPES</td>\n",
       "      <td>1979-04-01 00:00:00</td>\n",
       "    </tr>\n",
       "    <tr>\n",
       "      <th>2</th>\n",
       "      <td>ABIGAIL DE ANDRADE SOUZA</td>\n",
       "      <td>Aposentado</td>\n",
       "      <td>DAP/PROGESP - DIRETORIA DE ADMINISTRACAO DE PE...</td>\n",
       "      <td>1969-10-21 00:00:00</td>\n",
       "    </tr>\n",
       "  </tbody>\n",
       "</table>\n",
       "</div>"
      ],
      "text/plain": [
       "                            nome situacao_servidor  \\\n",
       "0                 ABIATA MARTINS        Aposentado   \n",
       "1  ABIGAIL CALDAS BATISTA GONDIM        Aposentado   \n",
       "2       ABIGAIL DE ANDRADE SOUZA        Aposentado   \n",
       "\n",
       "                                             unidade             admissao  \n",
       "0          DEPARTAMENTO DE PESSOAL PENSIONISTA CIVIS  1981-10-06 00:00:00  \n",
       "1                HOSPITAL UNIVERSITÁRIO ONOFRE LOPES  1979-04-01 00:00:00  \n",
       "2  DAP/PROGESP - DIRETORIA DE ADMINISTRACAO DE PE...  1969-10-21 00:00:00  "
      ]
     },
     "execution_count": 6,
     "metadata": {},
     "output_type": "execute_result"
    }
   ],
   "source": [
    "servidores.loc[0:2]"
   ]
  },
  {
   "cell_type": "code",
   "execution_count": 7,
   "metadata": {},
   "outputs": [],
   "source": [
    "servidores['admissao'] = servidores.admissao.str.split('-').str[0]\n",
    "servidores['admissao'] = servidores['admissao'].astype(int)"
   ]
  },
  {
   "cell_type": "markdown",
   "metadata": {},
   "source": [
    " "
   ]
  },
  {
   "cell_type": "markdown",
   "metadata": {},
   "source": [
    " "
   ]
  },
  {
   "cell_type": "markdown",
   "metadata": {},
   "source": [
    "Para uma visualização inicial, criamos o histograma que expressa o total de admissões da UFRN em cada um dos anos.\n",
    "Para gerar o gráfico, inserimos como parâmetro a coluna asdmissao do dataframe. Além disso, o parâmetro bins é definido\n",
    "como 75 com a intenção de que as \"caixinhas\" recebam as admissões anuais. Já a função range atribui ao gráfico o intervalo\n",
    "considerado a construção do gráfico."
   ]
  },
  {
   "cell_type": "code",
   "execution_count": 8,
   "metadata": {
    "scrolled": true
   },
   "outputs": [
    {
     "data": {
      "image/png": "[encoded data removed]",
      "text/plain": [
       "<Figure size 648x360 with 1 Axes>"
      ]
     },
     "metadata": {},
     "output_type": "display_data"
    }
   ],
   "source": [
    "fig, ax = plt.subplots(figsize=(9,5))\n",
    "ax.hist(servidores.admissao, bins=75, range=(1943,2018))\n",
    "plt.title(\"Quantidade de Admissões Registradas da UFRN em Cada Ano\")\n",
    "plt.show()"
   ]
  },
  {
   "cell_type": "markdown",
   "metadata": {},
   "source": [
    " "
   ]
  },
  {
   "cell_type": "markdown",
   "metadata": {},
   "source": [
    "  "
   ]
  },
  {
   "cell_type": "markdown",
   "metadata": {},
   "source": [
    "Antes de começarmos a análise de gênero precisamos identificar se o servidor é do sexo masculino e feminino. Para isso,\n",
    "precisamos por meio de um código criar uma nova coluna no dataframe que expresse o sexo do indivíduo. Para resolver esse\n",
    "problema temos a biblioteca genderBR, mas para usá-la é necessário instalar o Rstudio e carregá-lo no Jupyter. Logo, após\n",
    "percorremos a coluna nome do dataframe, identificamos o gênero por meio do do R e retornamos os nomes que foram\n",
    "identificados para a lista generos, que por sua vez é adicionada a uma nova coluna criada também nomeada generos (os nomes não indentificados foram retornados a lista, e consequentemente a coluna, como None)."
   ]
  },
  {
   "cell_type": "code",
   "execution_count": null,
   "metadata": {},
   "outputs": [],
   "source": [
    "!conda install -c r rpy2 --y"
   ]
  },
  {
   "cell_type": "code",
   "execution_count": 9,
   "metadata": {},
   "outputs": [],
   "source": [
    "import rpy2.robjects as robjects\n",
    "%load_ext rpy2.ipython"
   ]
  },
  {
   "cell_type": "code",
   "execution_count": 10,
   "metadata": {},
   "outputs": [],
   "source": [
    "%%R \n",
    "suppressMessages(library(genderBR))"
   ]
  },
  {
   "cell_type": "code",
   "execution_count": 85,
   "metadata": {},
   "outputs": [],
   "source": [
    "generos = []\n",
    "for i in servidores.nome:\n",
    "    primeiro_nome = i.split()[0]\n",
    "    genero = robjects.r.get_gender(primeiro_nome)\n",
    "    genero = genero.r_repr()\n",
    "    genero = genero.strip('\\\"')\n",
    "    if genero.startswith('NA'):\n",
    "        genero = None\n",
    "    generos.append(genero)\n",
    "    \n",
    "servidores[\"generos\"] = generos"
   ]
  },
  {
   "cell_type": "code",
   "execution_count": 120,
   "metadata": {},
   "outputs": [],
   "source": [
    "#Se já tiver o arquivo salvo\n",
    "servidores = pd.read_csv('generos.csv')"
   ]
  },
  {
   "cell_type": "code",
   "execution_count": 121,
   "metadata": {},
   "outputs": [
    {
     "data": {
      "text/html": [
       "<div>\n",
       "<style scoped>\n",
       "    .dataframe tbody tr th:only-of-type {\n",
       "        vertical-align: middle;\n",
       "    }\n",
       "\n",
       "    .dataframe tbody tr th {\n",
       "        vertical-align: top;\n",
       "    }\n",
       "\n",
       "    .dataframe thead th {\n",
       "        text-align: right;\n",
       "    }\n",
       "</style>\n",
       "<table border=\"1\" class=\"dataframe\">\n",
       "  <thead>\n",
       "    <tr style=\"text-align: right;\">\n",
       "      <th></th>\n",
       "      <th>Unnamed: 0</th>\n",
       "      <th>nome</th>\n",
       "      <th>categoria</th>\n",
       "      <th>situacao_servidor</th>\n",
       "      <th>unidade</th>\n",
       "      <th>admissao</th>\n",
       "      <th>generos</th>\n",
       "    </tr>\n",
       "  </thead>\n",
       "  <tbody>\n",
       "    <tr>\n",
       "      <th>0</th>\n",
       "      <td>0</td>\n",
       "      <td>ABIATA MARTINS</td>\n",
       "      <td>Técnico Administrativo</td>\n",
       "      <td>Aposentado</td>\n",
       "      <td>DEPARTAMENTO DE PESSOAL PENSIONISTA CIVIS</td>\n",
       "      <td>1981</td>\n",
       "      <td>Male</td>\n",
       "    </tr>\n",
       "    <tr>\n",
       "      <th>1</th>\n",
       "      <td>1</td>\n",
       "      <td>ABIGAIL CALDAS BATISTA GONDIM</td>\n",
       "      <td>Técnico Administrativo</td>\n",
       "      <td>Aposentado</td>\n",
       "      <td>HOSPITAL UNIVERSITÁRIO ONOFRE LOPES</td>\n",
       "      <td>1979</td>\n",
       "      <td>Female</td>\n",
       "    </tr>\n",
       "    <tr>\n",
       "      <th>2</th>\n",
       "      <td>2</td>\n",
       "      <td>ABIGAIL DE ANDRADE SOUZA</td>\n",
       "      <td>Docente                       \\n</td>\n",
       "      <td>Aposentado</td>\n",
       "      <td>DAP/PROGESP - DIRETORIA DE ADMINISTRACAO DE PE...</td>\n",
       "      <td>1969</td>\n",
       "      <td>Female</td>\n",
       "    </tr>\n",
       "    <tr>\n",
       "      <th>3</th>\n",
       "      <td>3</td>\n",
       "      <td>ABIGAIL MOURA</td>\n",
       "      <td>Docente                       \\n</td>\n",
       "      <td>Aposentado</td>\n",
       "      <td>DEPARTAMENTO DE PESSOAL PENSIONISTA CIVIS</td>\n",
       "      <td>1976</td>\n",
       "      <td>Female</td>\n",
       "    </tr>\n",
       "    <tr>\n",
       "      <th>4</th>\n",
       "      <td>4</td>\n",
       "      <td>ABILIO FONSECA DE SOUSA</td>\n",
       "      <td>Técnico Administrativo</td>\n",
       "      <td>Aposentado</td>\n",
       "      <td>REITORIA</td>\n",
       "      <td>1960</td>\n",
       "      <td>Male</td>\n",
       "    </tr>\n",
       "  </tbody>\n",
       "</table>\n",
       "</div>"
      ],
      "text/plain": [
       "   Unnamed: 0                           nome  \\\n",
       "0           0                 ABIATA MARTINS   \n",
       "1           1  ABIGAIL CALDAS BATISTA GONDIM   \n",
       "2           2       ABIGAIL DE ANDRADE SOUZA   \n",
       "3           3                  ABIGAIL MOURA   \n",
       "4           4        ABILIO FONSECA DE SOUSA   \n",
       "\n",
       "                          categoria situacao_servidor  \\\n",
       "0            Técnico Administrativo        Aposentado   \n",
       "1            Técnico Administrativo        Aposentado   \n",
       "2  Docente                       \\n        Aposentado   \n",
       "3  Docente                       \\n        Aposentado   \n",
       "4            Técnico Administrativo        Aposentado   \n",
       "\n",
       "                                             unidade  admissao generos  \n",
       "0          DEPARTAMENTO DE PESSOAL PENSIONISTA CIVIS      1981    Male  \n",
       "1                HOSPITAL UNIVERSITÁRIO ONOFRE LOPES      1979  Female  \n",
       "2  DAP/PROGESP - DIRETORIA DE ADMINISTRACAO DE PE...      1969  Female  \n",
       "3          DEPARTAMENTO DE PESSOAL PENSIONISTA CIVIS      1976  Female  \n",
       "4                                           REITORIA      1960    Male  "
      ]
     },
     "execution_count": 121,
     "metadata": {},
     "output_type": "execute_result"
    }
   ],
   "source": [
    "servidores.head()"
   ]
  },
  {
   "cell_type": "markdown",
   "metadata": {},
   "source": [
    " "
   ]
  },
  {
   "cell_type": "markdown",
   "metadata": {},
   "source": [
    " "
   ]
  },
  {
   "cell_type": "markdown",
   "metadata": {},
   "source": [
    "Filtramos, então, o dataframe considerando o gênero do servidor. Retornamos, assim, à mulheres_info e homens_info\n",
    "aquelas linhas nas quais os indivíduos foram indentificados como mulher e homem, respectivamente. Portanto, finalmente\n",
    "podemos criar os histogramas que representarão a quantidade de admissões anuais de ambos os sexos. Então, criamos uma\n",
    "figura de tamanho (12,10) e adicionamos dois outro espaços na figura nos quais serão contruídos os gráficos, atribuindo-os\n",
    "as variáveis ax1 e ax2. Utilizando, praticamente os mesmos parâmetros do último gráfico, nós podemos gerar os novos dois\n",
    "gráficos."
   ]
  },
  {
   "cell_type": "code",
   "execution_count": 122,
   "metadata": {
    "scrolled": true
   },
   "outputs": [],
   "source": [
    "mulheres_info = servidores[servidores.generos == 'Female']\n",
    "homens_info = servidores[servidores.generos == 'Male']"
   ]
  },
  {
   "cell_type": "markdown",
   "metadata": {},
   "source": [
    " "
   ]
  },
  {
   "cell_type": "markdown",
   "metadata": {},
   "source": [
    "  "
   ]
  },
  {
   "cell_type": "markdown",
   "metadata": {},
   "source": [
    "Número de Servidores Admitidos pela UFRN por Gênero ao Longo dos Anos  "
   ]
  },
  {
   "cell_type": "code",
   "execution_count": 123,
   "metadata": {},
   "outputs": [
    {
     "data": {
      "image/png": "[encoded data removed]",
      "text/plain": [
       "<Figure size 1440x1008 with 2 Axes>"
      ]
     },
     "metadata": {},
     "output_type": "display_data"
    }
   ],
   "source": [
    "fig = plt.figure(figsize=(20,14))\n",
    "ax1 = fig.add_subplot(3,3,1)\n",
    "ax2 = fig.add_subplot(3,3,2)\n",
    "ax1.hist(homens_info.admissao, bins=75, range=(1943,2018), color='green')\n",
    "ax2.hist(mulheres_info.admissao, bins=75, range=(1943,2018), color='purple')\n",
    "ax1.set_ylim(0,500)\n",
    "ax1.set_title(\"Homens\")\n",
    "ax2.set_title(\"Mulheres\")\n",
    "plt.show()"
   ]
  },
  {
   "cell_type": "markdown",
   "metadata": {},
   "source": [
    " "
   ]
  },
  {
   "cell_type": "markdown",
   "metadata": {},
   "source": [
    " "
   ]
  },
  {
   "cell_type": "markdown",
   "metadata": {},
   "source": [
    "Agora, teremos como objetivo criar um gráfico de linha que expresse o quanto a percentagem de admissões de mulheres \n",
    "e homens variou ao longo dos anos, e também procurar saber se a há grande disparidade de valores.\n",
    "Uma possível solução é criar tabelas por meio da função pivot_table, utilizando como índice a coluna admissao, e retornar\n",
    "o valor total de pessoas admitidas, o número de homens admitidos e o número de mulheres admitidas em cada ano.\n",
    "Retornamos as tabelas a total_admissoes, admissoes_mulheres e admissoes_homens, respectivamente."
   ]
  },
  {
   "cell_type": "code",
   "execution_count": 15,
   "metadata": {},
   "outputs": [
    {
     "data": {
      "text/html": [
       "<div>\n",
       "<style scoped>\n",
       "    .dataframe tbody tr th:only-of-type {\n",
       "        vertical-align: middle;\n",
       "    }\n",
       "\n",
       "    .dataframe tbody tr th {\n",
       "        vertical-align: top;\n",
       "    }\n",
       "\n",
       "    .dataframe thead th {\n",
       "        text-align: right;\n",
       "    }\n",
       "</style>\n",
       "<table border=\"1\" class=\"dataframe\">\n",
       "  <thead>\n",
       "    <tr style=\"text-align: right;\">\n",
       "      <th></th>\n",
       "      <th>generos</th>\n",
       "    </tr>\n",
       "    <tr>\n",
       "      <th>admissao</th>\n",
       "      <th></th>\n",
       "    </tr>\n",
       "  </thead>\n",
       "  <tbody>\n",
       "    <tr>\n",
       "      <th>1943</th>\n",
       "      <td>1</td>\n",
       "    </tr>\n",
       "    <tr>\n",
       "      <th>1950</th>\n",
       "      <td>4</td>\n",
       "    </tr>\n",
       "    <tr>\n",
       "      <th>1952</th>\n",
       "      <td>5</td>\n",
       "    </tr>\n",
       "    <tr>\n",
       "      <th>1953</th>\n",
       "      <td>1</td>\n",
       "    </tr>\n",
       "    <tr>\n",
       "      <th>1954</th>\n",
       "      <td>18</td>\n",
       "    </tr>\n",
       "  </tbody>\n",
       "</table>\n",
       "</div>"
      ],
      "text/plain": [
       "          generos\n",
       "admissao         \n",
       "1943            1\n",
       "1950            4\n",
       "1952            5\n",
       "1953            1\n",
       "1954           18"
      ]
     },
     "execution_count": 15,
     "metadata": {},
     "output_type": "execute_result"
    }
   ],
   "source": [
    "total_admissoes = servidores.pivot_table(index='admissao', values='generos', aggfunc='count')\n",
    "total_admissoes.head()"
   ]
  },
  {
   "cell_type": "code",
   "execution_count": 16,
   "metadata": {},
   "outputs": [
    {
     "data": {
      "text/html": [
       "<div>\n",
       "<style scoped>\n",
       "    .dataframe tbody tr th:only-of-type {\n",
       "        vertical-align: middle;\n",
       "    }\n",
       "\n",
       "    .dataframe tbody tr th {\n",
       "        vertical-align: top;\n",
       "    }\n",
       "\n",
       "    .dataframe thead th {\n",
       "        text-align: right;\n",
       "    }\n",
       "</style>\n",
       "<table border=\"1\" class=\"dataframe\">\n",
       "  <thead>\n",
       "    <tr style=\"text-align: right;\">\n",
       "      <th></th>\n",
       "      <th>generos</th>\n",
       "    </tr>\n",
       "    <tr>\n",
       "      <th>admissao</th>\n",
       "      <th></th>\n",
       "    </tr>\n",
       "  </thead>\n",
       "  <tbody>\n",
       "    <tr>\n",
       "      <th>1950</th>\n",
       "      <td>4</td>\n",
       "    </tr>\n",
       "    <tr>\n",
       "      <th>1952</th>\n",
       "      <td>5</td>\n",
       "    </tr>\n",
       "    <tr>\n",
       "      <th>1953</th>\n",
       "      <td>1</td>\n",
       "    </tr>\n",
       "    <tr>\n",
       "      <th>1954</th>\n",
       "      <td>13</td>\n",
       "    </tr>\n",
       "    <tr>\n",
       "      <th>1955</th>\n",
       "      <td>25</td>\n",
       "    </tr>\n",
       "  </tbody>\n",
       "</table>\n",
       "</div>"
      ],
      "text/plain": [
       "          generos\n",
       "admissao         \n",
       "1950            4\n",
       "1952            5\n",
       "1953            1\n",
       "1954           13\n",
       "1955           25"
      ]
     },
     "execution_count": 16,
     "metadata": {},
     "output_type": "execute_result"
    }
   ],
   "source": [
    "admissoes_mulheres = mulheres_info.pivot_table(index='admissao', values='generos', aggfunc='count') \n",
    "admissoes_mulheres.head()"
   ]
  },
  {
   "cell_type": "markdown",
   "metadata": {},
   "source": [
    " "
   ]
  },
  {
   "cell_type": "markdown",
   "metadata": {},
   "source": [
    " "
   ]
  },
  {
   "cell_type": "markdown",
   "metadata": {},
   "source": [
    "Para obter uma nova tabela com a porcentagem de mulheres admitidas por ano, dividimos a tabela com o número de mulheres\n",
    "pela tabela com o valor total de admissões, multiplicando por 100 para facilitar a visualização. É importante também\n",
    "apagar os dados nulos que se formam pela divisão por zero e também utilizar a função reset_index para transformar o\n",
    "índice admissao em coluna, para assim possibilitar a geração do gráfico."
   ]
  },
  {
   "cell_type": "code",
   "execution_count": 17,
   "metadata": {},
   "outputs": [
    {
     "data": {
      "text/html": [
       "<div>\n",
       "<style scoped>\n",
       "    .dataframe tbody tr th:only-of-type {\n",
       "        vertical-align: middle;\n",
       "    }\n",
       "\n",
       "    .dataframe tbody tr th {\n",
       "        vertical-align: top;\n",
       "    }\n",
       "\n",
       "    .dataframe thead th {\n",
       "        text-align: right;\n",
       "    }\n",
       "</style>\n",
       "<table border=\"1\" class=\"dataframe\">\n",
       "  <thead>\n",
       "    <tr style=\"text-align: right;\">\n",
       "      <th></th>\n",
       "      <th>admissao</th>\n",
       "      <th>generos</th>\n",
       "    </tr>\n",
       "  </thead>\n",
       "  <tbody>\n",
       "    <tr>\n",
       "      <th>0</th>\n",
       "      <td>1950</td>\n",
       "      <td>100.000000</td>\n",
       "    </tr>\n",
       "    <tr>\n",
       "      <th>1</th>\n",
       "      <td>1952</td>\n",
       "      <td>100.000000</td>\n",
       "    </tr>\n",
       "    <tr>\n",
       "      <th>2</th>\n",
       "      <td>1953</td>\n",
       "      <td>100.000000</td>\n",
       "    </tr>\n",
       "    <tr>\n",
       "      <th>3</th>\n",
       "      <td>1954</td>\n",
       "      <td>72.222222</td>\n",
       "    </tr>\n",
       "    <tr>\n",
       "      <th>4</th>\n",
       "      <td>1955</td>\n",
       "      <td>86.206897</td>\n",
       "    </tr>\n",
       "  </tbody>\n",
       "</table>\n",
       "</div>"
      ],
      "text/plain": [
       "   admissao     generos\n",
       "0      1950  100.000000\n",
       "1      1952  100.000000\n",
       "2      1953  100.000000\n",
       "3      1954   72.222222\n",
       "4      1955   86.206897"
      ]
     },
     "execution_count": 17,
     "metadata": {},
     "output_type": "execute_result"
    }
   ],
   "source": [
    "porcentagem_mulheres = (admissoes_mulheres/total_admissoes)*100\n",
    "porcentagem_mulheres.dropna(inplace=True)\n",
    "porcentagem_mulheres.reset_index(inplace=True)\n",
    "porcentagem_mulheres.head()"
   ]
  },
  {
   "cell_type": "markdown",
   "metadata": {},
   "source": [
    " "
   ]
  },
  {
   "cell_type": "markdown",
   "metadata": {},
   "source": [
    " "
   ]
  },
  {
   "cell_type": "markdown",
   "metadata": {},
   "source": [
    "Esse novo gráfico usará tabela porcentagem_mulheres como referência. Para a primeira linha do gráfico, que representa a \n",
    "porcetagem de mulheres, teremos como parâmetro a coluna admissao para o eixo x e a coluna generos para o eixo y. Já para \n",
    "a segunda, que representa a porcentagem de homens, o eixo x será considerado como o complemento da porcentagem de\n",
    "mulheres. Por esse motivo, subtrai-se a porcentagem de mulheres do 100."
   ]
  },
  {
   "cell_type": "code",
   "execution_count": 18,
   "metadata": {},
   "outputs": [
    {
     "data": {
      "image/png": "[encoded data removed]",
      "text/plain": [
       "<Figure size 432x288 with 1 Axes>"
      ]
     },
     "metadata": {},
     "output_type": "display_data"
    }
   ],
   "source": [
    "plt.plot(porcentagem_mulheres.admissao,porcentagem_mulheres.generos, c='red', label='Mulheres')\n",
    "plt.plot(porcentagem_mulheres.admissao,100 - porcentagem_mulheres.generos, c = 'blue', label='Homens')\n",
    "plt.legend(loc='best')\n",
    "plt.xlabel(\"Ano de Admissão\")\n",
    "plt.ylabel(\"%\")\n",
    "plt.title(\"Percentual de Admissões Anuais da UFRN por Sexo\")\n",
    "plt.show()"
   ]
  },
  {
   "cell_type": "markdown",
   "metadata": {},
   "source": [
    " "
   ]
  },
  {
   "cell_type": "markdown",
   "metadata": {},
   "source": [
    " "
   ]
  },
  {
   "cell_type": "markdown",
   "metadata": {},
   "source": [
    "Desta vez, temos o objetivo de criar gráficos de barra que representem o número de homens e mulheres que pertencem as três\n",
    "maiores unidades da UFRN em número de servidores. Para isso, primeiramente, devemos filtrar o dataframe e considerar \n",
    "apenas as linhas cujo servidor é registrado como \"Ativo permanente\". Para encontrar essas três maiores unidades usaremos\n",
    "um dicionário que receberá os valores da coluna unidades e guardará o número de vezes que eles se repetem. Tendo esses\n",
    "valores, ordenamo-os em ordem descrescente."
   ]
  },
  {
   "cell_type": "code",
   "execution_count": 124,
   "metadata": {},
   "outputs": [],
   "source": [
    "servidores_ativos = servidores[servidores['situacao_servidor'] == 'Ativo Permanente']"
   ]
  },
  {
   "cell_type": "code",
   "execution_count": 125,
   "metadata": {},
   "outputs": [
    {
     "data": {
      "text/html": [
       "<div>\n",
       "<style scoped>\n",
       "    .dataframe tbody tr th:only-of-type {\n",
       "        vertical-align: middle;\n",
       "    }\n",
       "\n",
       "    .dataframe tbody tr th {\n",
       "        vertical-align: top;\n",
       "    }\n",
       "\n",
       "    .dataframe thead th {\n",
       "        text-align: right;\n",
       "    }\n",
       "</style>\n",
       "<table border=\"1\" class=\"dataframe\">\n",
       "  <thead>\n",
       "    <tr style=\"text-align: right;\">\n",
       "      <th></th>\n",
       "      <th>Unnamed: 0</th>\n",
       "      <th>nome</th>\n",
       "      <th>categoria</th>\n",
       "      <th>situacao_servidor</th>\n",
       "      <th>unidade</th>\n",
       "      <th>admissao</th>\n",
       "      <th>generos</th>\n",
       "    </tr>\n",
       "  </thead>\n",
       "  <tbody>\n",
       "    <tr>\n",
       "      <th>4738</th>\n",
       "      <td>4738</td>\n",
       "      <td>ABDO FARRET NETO</td>\n",
       "      <td>Docente                       \\n</td>\n",
       "      <td>Ativo Permanente</td>\n",
       "      <td>DEPARTAMENTO DE MEDICINA INTEGRADA</td>\n",
       "      <td>2009</td>\n",
       "      <td>Male</td>\n",
       "    </tr>\n",
       "    <tr>\n",
       "      <th>4739</th>\n",
       "      <td>4739</td>\n",
       "      <td>ABMAEL BEZERRA DE OLIVEIRA</td>\n",
       "      <td>Docente                       \\n</td>\n",
       "      <td>Ativo Permanente</td>\n",
       "      <td>DEPARTAMENTO DE ENGENHARIA ELÉTRICA</td>\n",
       "      <td>1973</td>\n",
       "      <td>Male</td>\n",
       "    </tr>\n",
       "    <tr>\n",
       "      <th>4740</th>\n",
       "      <td>4740</td>\n",
       "      <td>ABNER CARLOS COSTA DE MELO</td>\n",
       "      <td>Técnico Administrativo</td>\n",
       "      <td>Ativo Permanente</td>\n",
       "      <td>DEPARTAMENTO DE FÍSICA TEÓRICA E EXPERIMENTAL</td>\n",
       "      <td>2014</td>\n",
       "      <td>Male</td>\n",
       "    </tr>\n",
       "    <tr>\n",
       "      <th>4741</th>\n",
       "      <td>4741</td>\n",
       "      <td>ABRAHAO SANDERSON NUNES FERNANDES DA SILVA</td>\n",
       "      <td>Docente                       \\n</td>\n",
       "      <td>Ativo Permanente</td>\n",
       "      <td>CERES - DEPARTAMENTO DE HISTÓRIA</td>\n",
       "      <td>2016</td>\n",
       "      <td>Male</td>\n",
       "    </tr>\n",
       "    <tr>\n",
       "      <th>4742</th>\n",
       "      <td>4742</td>\n",
       "      <td>ACACIA JESSICA MAIA DE MOURA</td>\n",
       "      <td>Técnico Administrativo</td>\n",
       "      <td>Ativo Permanente</td>\n",
       "      <td>ESCOLA AGRÍCOLA DE JUNDIAÍ</td>\n",
       "      <td>2013</td>\n",
       "      <td>Female</td>\n",
       "    </tr>\n",
       "  </tbody>\n",
       "</table>\n",
       "</div>"
      ],
      "text/plain": [
       "      Unnamed: 0                                        nome  \\\n",
       "4738        4738                            ABDO FARRET NETO   \n",
       "4739        4739                  ABMAEL BEZERRA DE OLIVEIRA   \n",
       "4740        4740                  ABNER CARLOS COSTA DE MELO   \n",
       "4741        4741  ABRAHAO SANDERSON NUNES FERNANDES DA SILVA   \n",
       "4742        4742                ACACIA JESSICA MAIA DE MOURA   \n",
       "\n",
       "                             categoria situacao_servidor  \\\n",
       "4738  Docente                       \\n  Ativo Permanente   \n",
       "4739  Docente                       \\n  Ativo Permanente   \n",
       "4740            Técnico Administrativo  Ativo Permanente   \n",
       "4741  Docente                       \\n  Ativo Permanente   \n",
       "4742            Técnico Administrativo  Ativo Permanente   \n",
       "\n",
       "                                            unidade  admissao generos  \n",
       "4738             DEPARTAMENTO DE MEDICINA INTEGRADA      2009    Male  \n",
       "4739            DEPARTAMENTO DE ENGENHARIA ELÉTRICA      1973    Male  \n",
       "4740  DEPARTAMENTO DE FÍSICA TEÓRICA E EXPERIMENTAL      2014    Male  \n",
       "4741               CERES - DEPARTAMENTO DE HISTÓRIA      2016    Male  \n",
       "4742                     ESCOLA AGRÍCOLA DE JUNDIAÍ      2013  Female  "
      ]
     },
     "execution_count": 125,
     "metadata": {},
     "output_type": "execute_result"
    }
   ],
   "source": [
    "servidores_ativos.head()"
   ]
  },
  {
   "cell_type": "code",
   "execution_count": 126,
   "metadata": {
    "scrolled": false
   },
   "outputs": [
    {
     "data": {
      "text/plain": [
       "Male      2735\n",
       "Female    2393\n",
       "Name: generos, dtype: int64"
      ]
     },
     "execution_count": 126,
     "metadata": {},
     "output_type": "execute_result"
    }
   ],
   "source": [
    "#Difença em quantidade no numero total de servidores ***ativos*** da UFRN de ambos os sexos\n",
    "servidores_ativos.generos.value_counts()"
   ]
  },
  {
   "cell_type": "code",
   "execution_count": 127,
   "metadata": {},
   "outputs": [],
   "source": [
    "conj_unidades = {}\n",
    "lista_unidades = []\n",
    "for i in servidores_ativos.unidade:\n",
    "    lista_unidades.append(i)\n",
    "for i in lista_unidades:\n",
    "    if i in conj_unidades:\n",
    "        conj_unidades[i] += 1\n",
    "    else:\n",
    "        conj_unidades[i] = 1"
   ]
  },
  {
   "cell_type": "code",
   "execution_count": 128,
   "metadata": {},
   "outputs": [
    {
     "data": {
      "text/plain": [
       "[('EBSERH - DIVISÃO DE GESTÃO DE CUIDADO', 230),\n",
       " ('EBSERH - DIVISÃO DE APOIO DIAGNOSTICO E TERAPEUTICO', 199),\n",
       " ('ESCOLA AGRÍCOLA DE JUNDIAÍ', 184)]"
      ]
     },
     "execution_count": 128,
     "metadata": {},
     "output_type": "execute_result"
    }
   ],
   "source": [
    "sorted(conj_unidades.items(), key=lambda x: x[1],reverse=True)[:3]"
   ]
  },
  {
   "cell_type": "markdown",
   "metadata": {},
   "source": [
    " "
   ]
  },
  {
   "cell_type": "markdown",
   "metadata": {},
   "source": [
    " "
   ]
  },
  {
   "cell_type": "markdown",
   "metadata": {},
   "source": [
    "Atribuimos, então, atráves das funções value_counts e values, as listas com o numero de homens e mulheres de cada umas \n",
    "das três unidades. Para efeito de organização trocamos a posição dos valores da lista EBSERH1 e EBSERH2 já que a função \n",
    "values organiza a lista do maior valor para o menor e isso não é interessante no nosso contexto."
   ]
  },
  {
   "cell_type": "code",
   "execution_count": 130,
   "metadata": {},
   "outputs": [],
   "source": [
    "EBSERH1 = servidores_ativos[(servidores_ativos.unidade == 'EBSERH - DIVISÃO DE GESTÃO DE CUIDADO')].generos.value_counts().values\n",
    "EBSERH2 = servidores_ativos[(servidores_ativos.unidade == 'EBSERH - DIVISÃO DE APOIO DIAGNOSTICO E TERAPEUTICO')].generos.value_counts().values\n",
    "EAJ = servidores_ativos[(servidores_ativos.unidade == 'ESCOLA AGRÍCOLA DE JUNDIAÍ')].generos.value_counts().values\n",
    "EBSERH1 = [EBSERH1[1],EBSERH1[0]]\n",
    "EBSERH2 = [EBSERH2[1],EBSERH2[0]]"
   ]
  },
  {
   "cell_type": "markdown",
   "metadata": {},
   "source": [
    "Agora, geramos uma figura de tamanho (14,10) e adicionamos trẽs espaços nela aonde serão alocados os gráficos atráves da\n",
    "função add_subplot. Como para gerar os três gráficos de barras precisaremos da posição dos índices no eixo x, aonde as barras serão colocadas, importamos a função arange do numpy para gerar e indicar essa posição. Adicionamos ainda como\n",
    "parâmetro as listas com os valores gerados anteriormente, a largura das barras e suas cores. Também limitamos o eixo y a um\n",
    "interval de 0 a 200 e, através da função range, organizamos os índices e fornecemos legendas que referenciam associam as\n",
    "barras aos gêneros que elas representam."
   ]
  },
  {
   "cell_type": "markdown",
   "metadata": {},
   "source": [
    " "
   ]
  },
  {
   "cell_type": "markdown",
   "metadata": {},
   "source": [
    " "
   ]
  },
  {
   "cell_type": "markdown",
   "metadata": {},
   "source": [
    "Número de Homens e Mulheres nas Três Unidades com Mais Servidores da UFRN"
   ]
  },
  {
   "cell_type": "code",
   "execution_count": 131,
   "metadata": {},
   "outputs": [
    {
     "data": {
      "image/png": "[encoded data removed]",
      "text/plain": [
       "<Figure size 1008x720 with 3 Axes>"
      ]
     },
     "metadata": {},
     "output_type": "display_data"
    }
   ],
   "source": [
    "from numpy import arange\n",
    "fig = plt.figure(figsize=(14,10)) \n",
    "ax1 = fig.add_subplot(2,2,1)\n",
    "ax2 = fig.add_subplot(2,2,2)\n",
    "ax3 = fig.add_subplot(2,2,3)\n",
    "posicao = arange(2) + 1\n",
    "coluna = ['Homens', 'Mulheres']\n",
    "ax1.bar(posicao,EBSERH1,0.5,color=['blue','red'])\n",
    "ax2.bar(posicao,EBSERH2,0.5, color=['blue','red'])\n",
    "ax3.bar(posicao,EAJ,0.5,color=['blue','red'])\n",
    "ax1.set_ylim(0,200)\n",
    "ax2.set_ylim(0,200)\n",
    "ax3.set_ylim(0,200)\n",
    "indices = range(1,3)\n",
    "ax1.set_xticks(indices)\n",
    "ax2.set_xticks(indices)\n",
    "ax3.set_xticks(indices)\n",
    "ax1.set_xticklabels(coluna)\n",
    "ax2.set_xticklabels(coluna)\n",
    "ax3.set_xticklabels(coluna)\n",
    "ax1.set_title(\"EBSERH - DIVISÃO DE GESTÃO DE CUIDADO\")\n",
    "ax2.set_title(\"EBSERH - DIVISÃO DE APOIO DIAGNOSTICO E TERAPEUTICO\")\n",
    "ax3.set_title(\"ESCOLA AGRÍCOLA DE JUNDIAÍ\")\n",
    "plt.show()\n",
    "# Gráfico que representa o numero de homens e mulheres nas 3 unidades com mais servidoress "
   ]
  },
  {
   "cell_type": "markdown",
   "metadata": {},
   "source": [
    " "
   ]
  },
  {
   "cell_type": "markdown",
   "metadata": {},
   "source": [
    " "
   ]
  },
  {
   "cell_type": "markdown",
   "metadata": {},
   "source": [
    " "
   ]
  },
  {
   "cell_type": "markdown",
   "metadata": {},
   "source": [
    "Agora partiremos para a análise da diferença de gênero entre os alunos. Para tal primeiramente, lemos o arquivo dos \n",
    "discentes ingressantes do ano de 2018 e geramos novamente uma coluna que identifica o gênero do aluno."
   ]
  },
  {
   "cell_type": "code",
   "execution_count": null,
   "metadata": {
    "scrolled": true
   },
   "outputs": [],
   "source": [
    "ingressantes = pd.read_csv(ingressantes2018, sep=';') "
   ]
  },
  {
   "cell_type": "code",
   "execution_count": 11,
   "metadata": {},
   "outputs": [],
   "source": [
    "genero_ingressante = []\n",
    "for i in ingressantes.nome_discente:\n",
    "    primeiro_nome = i.split()[0]\n",
    "    genero = robjects.r.get_gender(primeiro_nome)\n",
    "    genero = genero.r_repr()\n",
    "    genero = genero.strip('\\\"')\n",
    "    if genero.startswith('NA'):\n",
    "        genero = None\n",
    "    genero_ingressante.append(genero)\n",
    "    \n",
    "ingressantes[\"generos\"] = genero_ingressante"
   ]
  },
  {
   "cell_type": "code",
   "execution_count": 11,
   "metadata": {},
   "outputs": [
    {
     "data": {
      "text/html": [
       "<div>\n",
       "<style scoped>\n",
       "    .dataframe tbody tr th:only-of-type {\n",
       "        vertical-align: middle;\n",
       "    }\n",
       "\n",
       "    .dataframe tbody tr th {\n",
       "        vertical-align: top;\n",
       "    }\n",
       "\n",
       "    .dataframe thead th {\n",
       "        text-align: right;\n",
       "    }\n",
       "</style>\n",
       "<table border=\"1\" class=\"dataframe\">\n",
       "  <thead>\n",
       "    <tr style=\"text-align: right;\">\n",
       "      <th></th>\n",
       "      <th>Unnamed: 0</th>\n",
       "      <th>matricula</th>\n",
       "      <th>nome_discente</th>\n",
       "      <th>ano_ingresso</th>\n",
       "      <th>periodo_ingresso</th>\n",
       "      <th>forma_ingresso</th>\n",
       "      <th>tipo_discente</th>\n",
       "      <th>status</th>\n",
       "      <th>sigla_nivel_ensino</th>\n",
       "      <th>nivel_ensino</th>\n",
       "      <th>id_curso</th>\n",
       "      <th>nome_curso</th>\n",
       "      <th>modalidade_educacao</th>\n",
       "      <th>id_unidade</th>\n",
       "      <th>nome_unidade</th>\n",
       "      <th>id_unidade_gestora</th>\n",
       "      <th>nome_unidade_gestora</th>\n",
       "      <th>generos</th>\n",
       "    </tr>\n",
       "  </thead>\n",
       "  <tbody>\n",
       "    <tr>\n",
       "      <th>0</th>\n",
       "      <td>0</td>\n",
       "      <td>20180057132</td>\n",
       "      <td>AADRIAN ANDREW COSTA BORGES</td>\n",
       "      <td>2018</td>\n",
       "      <td>1.0</td>\n",
       "      <td>SiSU</td>\n",
       "      <td>REGULAR</td>\n",
       "      <td>ATIVO</td>\n",
       "      <td>G</td>\n",
       "      <td>GRADUAÇÃO</td>\n",
       "      <td>2000034.0</td>\n",
       "      <td>ESTATÍSTICA</td>\n",
       "      <td>PRESENCIAL</td>\n",
       "      <td>439.0</td>\n",
       "      <td>CENTRO DE CIÊNCIAS EXATAS E DA TERRA</td>\n",
       "      <td>439.0</td>\n",
       "      <td>CENTRO DE CIÊNCIAS EXATAS E DA TERRA</td>\n",
       "      <td>NaN</td>\n",
       "    </tr>\n",
       "    <tr>\n",
       "      <th>1</th>\n",
       "      <td>1</td>\n",
       "      <td>20183023601</td>\n",
       "      <td>ABDA ROCHA PINHEIRO</td>\n",
       "      <td>2018</td>\n",
       "      <td>1.0</td>\n",
       "      <td>PROCESSO SELETIVO</td>\n",
       "      <td>REGULAR</td>\n",
       "      <td>ATIVO</td>\n",
       "      <td>T</td>\n",
       "      <td>TÉCNICO</td>\n",
       "      <td>5401.0</td>\n",
       "      <td>TÉCNICO DE MÚSICA (REGÊNCIA)</td>\n",
       "      <td>PRESENCIAL</td>\n",
       "      <td>284.0</td>\n",
       "      <td>ESCOLA DE MÚSICA</td>\n",
       "      <td>605.0</td>\n",
       "      <td>UNIVERSIDADE FEDERAL DO RIO GRANDE DO NORTE</td>\n",
       "      <td>Female</td>\n",
       "    </tr>\n",
       "    <tr>\n",
       "      <th>2</th>\n",
       "      <td>2</td>\n",
       "      <td>20180107403</td>\n",
       "      <td>ABDON FRANCISCO SANTANA NETO</td>\n",
       "      <td>2018</td>\n",
       "      <td>2.0</td>\n",
       "      <td>SiSU</td>\n",
       "      <td>REGULAR</td>\n",
       "      <td>CADASTRADO</td>\n",
       "      <td>G</td>\n",
       "      <td>GRADUAÇÃO</td>\n",
       "      <td>10320810.0</td>\n",
       "      <td>CIÊNCIAS E TECNOLOGIA</td>\n",
       "      <td>PRESENCIAL</td>\n",
       "      <td>4885.0</td>\n",
       "      <td>ESCOLA DE CIÊNCIAS E TECNOLOGIA</td>\n",
       "      <td>605.0</td>\n",
       "      <td>UNIVERSIDADE FEDERAL DO RIO GRANDE DO NORTE</td>\n",
       "      <td>Male</td>\n",
       "    </tr>\n",
       "  </tbody>\n",
       "</table>\n",
       "</div>"
      ],
      "text/plain": [
       "   Unnamed: 0    matricula                 nome_discente  ano_ingresso  \\\n",
       "0           0  20180057132   AADRIAN ANDREW COSTA BORGES          2018   \n",
       "1           1  20183023601           ABDA ROCHA PINHEIRO          2018   \n",
       "2           2  20180107403  ABDON FRANCISCO SANTANA NETO          2018   \n",
       "\n",
       "   periodo_ingresso     forma_ingresso tipo_discente      status  \\\n",
       "0               1.0               SiSU       REGULAR       ATIVO   \n",
       "1               1.0  PROCESSO SELETIVO       REGULAR       ATIVO   \n",
       "2               2.0               SiSU       REGULAR  CADASTRADO   \n",
       "\n",
       "  sigla_nivel_ensino nivel_ensino    id_curso                    nome_curso  \\\n",
       "0                  G    GRADUAÇÃO   2000034.0                   ESTATÍSTICA   \n",
       "1                  T      TÉCNICO      5401.0  TÉCNICO DE MÚSICA (REGÊNCIA)   \n",
       "2                  G    GRADUAÇÃO  10320810.0         CIÊNCIAS E TECNOLOGIA   \n",
       "\n",
       "  modalidade_educacao  id_unidade                          nome_unidade  \\\n",
       "0          PRESENCIAL       439.0  CENTRO DE CIÊNCIAS EXATAS E DA TERRA   \n",
       "1          PRESENCIAL       284.0                      ESCOLA DE MÚSICA   \n",
       "2          PRESENCIAL      4885.0       ESCOLA DE CIÊNCIAS E TECNOLOGIA   \n",
       "\n",
       "   id_unidade_gestora                         nome_unidade_gestora generos  \n",
       "0               439.0         CENTRO DE CIÊNCIAS EXATAS E DA TERRA     NaN  \n",
       "1               605.0  UNIVERSIDADE FEDERAL DO RIO GRANDE DO NORTE  Female  \n",
       "2               605.0  UNIVERSIDADE FEDERAL DO RIO GRANDE DO NORTE    Male  "
      ]
     },
     "execution_count": 11,
     "metadata": {},
     "output_type": "execute_result"
    }
   ],
   "source": [
    "ingressantes.loc[0:2]"
   ]
  },
  {
   "cell_type": "markdown",
   "metadata": {},
   "source": [
    "Teremos agora o objetivo de representar graficamente a quantidade de alunos das áreas de exatas e humanas do campus\n",
    "central da UFRN ingressantes em 2018. Para isso, precisamos filtrar o dataframe ingressantes para obter as linhas que satisfazem os requerimentos necessários para representar um aluno de exatas ou humanas. Atribuímos os resultados às variáveis de mesmo nome."
   ]
  },
  {
   "cell_type": "markdown",
   "metadata": {},
   "source": [
    "Total de Ingressantes por Gêneros"
   ]
  },
  {
   "cell_type": "code",
   "execution_count": 14,
   "metadata": {},
   "outputs": [
    {
     "data": {
      "text/plain": [
       "Male      5333\n",
       "Female    4066\n",
       "Name: generos, dtype: int64"
      ]
     },
     "execution_count": 14,
     "metadata": {},
     "output_type": "execute_result"
    }
   ],
   "source": [
    "ingressantes.generos.value_counts()"
   ]
  },
  {
   "cell_type": "markdown",
   "metadata": {},
   "source": [
    "Total de Ingressantes em Exatas"
   ]
  },
  {
   "cell_type": "code",
   "execution_count": 15,
   "metadata": {
    "scrolled": true
   },
   "outputs": [
    {
     "data": {
      "text/plain": [
       "Male      1087\n",
       "Female     415\n",
       "Name: generos, dtype: int64"
      ]
     },
     "execution_count": 15,
     "metadata": {},
     "output_type": "execute_result"
    }
   ],
   "source": [
    "exatas = ingressantes[((ingressantes.nome_unidade_gestora == 'CENTRO DE CIÊNCIAS EXATAS E DA TERRA') | \n",
    "                       (ingressantes.nome_unidade_gestora == 'CENTRO DE TECNOLOGIA') | \n",
    "                       (ingressantes.nome_curso == 'TECNOLOGIA DA INFORMAÇÃO')) & \n",
    "                      (ingressantes.nivel_ensino == 'GRADUAÇÃO')]\n",
    "exatas.generos.value_counts()"
   ]
  },
  {
   "cell_type": "markdown",
   "metadata": {},
   "source": [
    "Total de Ingressantes em Humanas"
   ]
  },
  {
   "cell_type": "code",
   "execution_count": 16,
   "metadata": {},
   "outputs": [
    {
     "data": {
      "text/plain": [
       "Male      911\n",
       "Female    905\n",
       "Name: generos, dtype: int64"
      ]
     },
     "execution_count": 16,
     "metadata": {},
     "output_type": "execute_result"
    }
   ],
   "source": [
    "humanas = ingressantes[((ingressantes.nome_unidade_gestora == 'CENTRO DE CIÊNCIAS HUMANAS, LETRAS E ARTES') | \n",
    "                       (ingressantes.nome_unidade_gestora == 'CENTRO DE CIÊNCIAS SOCIAIS APLICADAS') | \n",
    "                       (ingressantes.nome_curso == 'CENTRO DE EDUCAÇÃO')) & \n",
    "                      (ingressantes.nivel_ensino == 'GRADUAÇÃO')]\n",
    "humanas.generos.value_counts()"
   ]
  },
  {
   "cell_type": "markdown",
   "metadata": {},
   "source": [
    "Logo baixo, criamos uma figura de tamanho (15,12) na qual inserimos dois espaços que representaram a área de\n",
    "exatas e humanas. Usamos as funções value_counts e values para retornar às variáveis valor1 e valor2 as listas com o \n",
    "número de homens e mulheres que pertencem as áreas de conhecimento. Então posicionamos as barras nos gráficos a partir da\n",
    "função arange e os índices apartir da função range. Já como parâmetro para os dois gráficos, além da posição, fornecemos\n",
    "as listas valor1 e valor2, a largura das barras e a cor que representa cada gênero. Para efeito de organização, definimos\n",
    "o eixo y no intervalo entre 0 e 1500."
   ]
  },
  {
   "cell_type": "code",
   "execution_count": 17,
   "metadata": {
    "scrolled": true
   },
   "outputs": [
    {
     "data": {
      "image/png": "[encoded data removed]",
      "text/plain": [
       "<Figure size 1080x864 with 2 Axes>"
      ]
     },
     "metadata": {},
     "output_type": "display_data"
    }
   ],
   "source": [
    "from numpy import arange\n",
    "valor1 = exatas.generos.value_counts().values\n",
    "valor2 = humanas.generos.value_counts().values\n",
    "fig = plt.figure(figsize=(15,12))\n",
    "ax1 = fig.add_subplot(2,2,1)\n",
    "ax2 = fig.add_subplot(2,2,2)\n",
    "posicao = arange(2) + 1\n",
    "indice = range(1,3)\n",
    "ax1.set_xticks(indice)\n",
    "ax1.set_xticklabels([\"Homens\",\"Mulheres\"])\n",
    "ax1.bar(posicao,valor1, 0.5, color = ['blue','red'])\n",
    "ax1.set_ylim(0,1500)\n",
    "ax1.set_title(\"Ingressantes nos Cursos de Exatas da UFRN em 2018\")\n",
    "\n",
    "ax2.set_xticks(indice)\n",
    "ax2.set_xticklabels([\"Homens\",\"Mulheres\"])\n",
    "ax2.set_ylim(0,1500)\n",
    "ax2.bar(posicao,valor2, 0.5, color = ['blue','red'])\n",
    "ax2.set_title(\"Ingressantes nos Cursos de Humanas da UFRN em 2018\")\n",
    "plt.show()"
   ]
  },
  {
   "cell_type": "markdown",
   "metadata": {},
   "source": [
    " "
   ]
  },
  {
   "cell_type": "markdown",
   "metadata": {},
   "source": [
    " "
   ]
  },
  {
   "cell_type": "markdown",
   "metadata": {},
   "source": [
    "Tentaremos agora concluir a quantidade de mestrandos e doutorandos, independentemente da área de conhecimento a qual\n",
    "pertence. Diante disso, novamente filtramos aqueles discentes que pertencem a cada um desses níveis de ensino e atribuimos\n",
    "os resultados a variável mestrado e doutorado. Portanto, utilizando o mesmo padrão da figura anterior podemos construir\n",
    "os dois gráficos com facilidade."
   ]
  },
  {
   "cell_type": "markdown",
   "metadata": {},
   "source": [
    "Número Total de Ingressantes em Mestrado"
   ]
  },
  {
   "cell_type": "code",
   "execution_count": 18,
   "metadata": {},
   "outputs": [
    {
     "data": {
      "text/plain": [
       "Male      419\n",
       "Female    391\n",
       "Name: generos, dtype: int64"
      ]
     },
     "execution_count": 18,
     "metadata": {},
     "output_type": "execute_result"
    }
   ],
   "source": [
    "mestrado = ingressantes[ingressantes.nivel_ensino == 'MESTRADO']\n",
    "mestrado.generos.value_counts()"
   ]
  },
  {
   "cell_type": "markdown",
   "metadata": {},
   "source": [
    "Número Total de Ingressantes em Doutorado"
   ]
  },
  {
   "cell_type": "code",
   "execution_count": 19,
   "metadata": {},
   "outputs": [
    {
     "data": {
      "text/plain": [
       "Female    146\n",
       "Male      115\n",
       "Name: generos, dtype: int64"
      ]
     },
     "execution_count": 19,
     "metadata": {},
     "output_type": "execute_result"
    }
   ],
   "source": [
    "doutorado = ingressantes[ingressantes.nivel_ensino == 'DOUTORADO']\n",
    "doutorado.generos.value_counts()"
   ]
  },
  {
   "cell_type": "markdown",
   "metadata": {},
   "source": [
    " "
   ]
  },
  {
   "cell_type": "markdown",
   "metadata": {},
   "source": [
    " "
   ]
  },
  {
   "cell_type": "markdown",
   "metadata": {},
   "source": [
    "A próxima figura, construída nos mesmo moldes das anteriores, representa a diferença por gênero no múmero de ingressantes\n",
    "em cursos de mestrado e doutorado  na UFRN."
   ]
  },
  {
   "cell_type": "code",
   "execution_count": 20,
   "metadata": {},
   "outputs": [
    {
     "data": {
      "image/png": "[encoded data removed]",
      "text/plain": [
       "<Figure size 1080x864 with 2 Axes>"
      ]
     },
     "metadata": {},
     "output_type": "display_data"
    }
   ],
   "source": [
    "fig = plt.figure(figsize=(15,12))\n",
    "valor1 = mestrado.generos.value_counts().values\n",
    "valor2 = doutorado.generos.value_counts().values\n",
    "valor2 = [valor2[1],valor2[0]]\n",
    "ax1 = fig.add_subplot(2,2,1)\n",
    "ax2 = fig.add_subplot(2,2,2)\n",
    "posicao = arange(2) + 1\n",
    "indice = range(1,3)\n",
    "ax1.set_xticks(indice)\n",
    "ax1.set_xticklabels([\"Homens\",\"Mulheres\"])\n",
    "ax1.bar(posicao,valor1, 0.5, color = ['blue','red'])\n",
    "ax1.set_ylim(0,500)\n",
    "ax1.set_title(\"Ingressantes nos Cursos de Mestrado da UFRN em 2018\")\n",
    "\n",
    "ax2.set_xticks(indice)\n",
    "ax2.set_xticklabels([\"Homens\",\"Mulheres\"])\n",
    "ax2.set_ylim(0,500)\n",
    "ax2.bar(posicao,valor2, 0.5, color = ['blue','red'])\n",
    "ax2.set_title(\"Ingressantes nos Cursos de Doutorado da UFRN em 2018\")\n",
    "plt.show()"
   ]
  },
  {
   "cell_type": "code",
   "execution_count": 5,
   "metadata": {},
   "outputs": [],
   "source": [
    "ingressantes2017 = 'http://bit.do/discentes_2017'\n",
    "ingressantes2016 = 'http://bit.do/discentes_2016'\n",
    "ingressantes2015 = 'http://bit.do/discentes_2015'\n",
    "ingressantes2014 = 'http://bit.do/discentes_2014'\n",
    "ingressantes2013 = 'http://bit.do/discentes_2013'\n",
    "ingressantes2012 = 'http://bit.do/discentes_2012'\n",
    "\n",
    "ingressantes_2017 = pd.read_csv(ingressantes2017, sep=';')\n",
    "ingressantes_2016 = pd.read_csv(ingressantes2016, sep=';')\n",
    "ingressantes_2015 = pd.read_csv(ingressantes2015, sep=';')\n",
    "ingressantes_2014 = pd.read_csv(ingressantes2014, sep=';')\n",
    "ingressantes_2013 = pd.read_csv(ingressantes2013, sep=';')\n",
    "ingressantes_2012 = pd.read_csv(ingressantes2012, sep=';')"
   ]
  },
  {
   "cell_type": "code",
   "execution_count": 6,
   "metadata": {},
   "outputs": [],
   "source": [
    "#Substituimos o valor incorreto 2009 para 2017\n",
    "ingressantes_2017['ano_ingresso'] = 2017"
   ]
  },
  {
   "cell_type": "code",
   "execution_count": 7,
   "metadata": {},
   "outputs": [],
   "source": [
    "lista_ingressantes = []\n",
    "\n",
    "for i in range(12,18):\n",
    "    lista_ingressantes.append(vars()['ingressantes_20%d' % (i)])"
   ]
  },
  {
   "cell_type": "code",
   "execution_count": 8,
   "metadata": {},
   "outputs": [],
   "source": [
    "total_ingressantes = pd.concat(lista_ingressantes)\n",
    "total_ingressantes.reset_index(drop=True, inplace=True)"
   ]
  },
  {
   "cell_type": "code",
   "execution_count": 25,
   "metadata": {},
   "outputs": [
    {
     "data": {
      "text/plain": [
       "(107929, 18)"
      ]
     },
     "execution_count": 25,
     "metadata": {},
     "output_type": "execute_result"
    }
   ],
   "source": [
    "total_ingressantes.shape"
   ]
  },
  {
   "cell_type": "code",
   "execution_count": null,
   "metadata": {},
   "outputs": [],
   "source": [
    "total_ingressantes.to_csv(\"total_ingressantes.csv\")"
   ]
  },
  {
   "cell_type": "code",
   "execution_count": null,
   "metadata": {},
   "outputs": [],
   "source": [
    "genero_dos_ingressantes = []\n",
    "for i in total_ingressantes.nome_discente:\n",
    "    primeiro_nome = i.split()[0]\n",
    "    genero = robjects.r.get_gender(primeiro_nome)\n",
    "    genero = genero.r_repr()\n",
    "    genero = genero.strip('\\\"')\n",
    "    if genero.startswith('NA'):\n",
    "        genero = None\n",
    "    genero_dos_ingressantes.append(genero)\n",
    "    \n",
    "total_ingressantes[\"generos\"] = genero_dos_ingressantes"
   ]
  },
  {
   "cell_type": "code",
   "execution_count": 23,
   "metadata": {},
   "outputs": [],
   "source": [
    "total_ingressantes.to_csv(\"total_ingressantes.csv\")"
   ]
  },
  {
   "cell_type": "code",
   "execution_count": 24,
   "metadata": {},
   "outputs": [
    {
     "ename": "NameError",
     "evalue": "name 'ingressantes' is not defined",
     "output_type": "error",
     "traceback": [
      "\u001b[0;31m---------------------------------------------------------------------------\u001b[0m",
      "\u001b[0;31mNameError\u001b[0m                                 Traceback (most recent call last)",
      "\u001b[0;32m<ipython-input-24-272e64c6be7d>\u001b[0m in \u001b[0;36m<module>\u001b[0;34m()\u001b[0m\n\u001b[1;32m      1\u001b[0m ingressantes_exatas = total_ingressantes[((ingressantes.nome_unidade_gestora == 'CENTRO DE CIÊNCIAS EXATAS E DA TERRA') | \n\u001b[0;32m----> 2\u001b[0;31m                        \u001b[0;34m(\u001b[0m\u001b[0mingressantes\u001b[0m\u001b[0;34m.\u001b[0m\u001b[0mnome_unidade_gestora\u001b[0m \u001b[0;34m==\u001b[0m \u001b[0;34m'CENTRO DE TECNOLOGIA'\u001b[0m\u001b[0;34m)\u001b[0m \u001b[0;34m|\u001b[0m\u001b[0;34m\u001b[0m\u001b[0m\n\u001b[0m\u001b[1;32m      3\u001b[0m                        (ingressantes.nome_curso == 'TECNOLOGIA DA INFORMAÇÃO')) & \n\u001b[1;32m      4\u001b[0m                       (ingressantes.nivel_ensino == 'GRADUAÇÃO')]\n",
      "\u001b[0;31mNameError\u001b[0m: name 'ingressantes' is not defined"
     ]
    }
   ],
   "source": [
    "ingressantes_exatas = total_ingressantes[((ingressantes.nome_unidade_gestora == 'CENTRO DE CIÊNCIAS EXATAS E DA TERRA') | \n",
    "                       (ingressantes.nome_unidade_gestora == 'CENTRO DE TECNOLOGIA') | \n",
    "                       (ingressantes.nome_curso == 'TECNOLOGIA DA INFORMAÇÃO')) & \n",
    "                      (ingressantes.nivel_ensino == 'GRADUAÇÃO')]"
   ]
  },
  {
   "cell_type": "code",
   "execution_count": null,
   "metadata": {},
   "outputs": [],
   "source": [
    "total_exatas = ingressantes_exatas.pivot_table(index='ano_ingresso', values='generos', aggfunc='count')"
   ]
  },
  {
   "cell_type": "code",
   "execution_count": null,
   "metadata": {},
   "outputs": [],
   "source": [
    "mulheres_exatas = ingressantes_exatas[ingressantes_exatas.generos == 'Female']\n",
    "mulheres = mulheres_exatas.pivot_table(index='ano_ingresso', values='genero', aggfunc='count')\n",
    "mulheres.head()"
   ]
  },
  {
   "cell_type": "code",
   "execution_count": null,
   "metadata": {},
   "outputs": [],
   "source": [
    "porcentagem_mulheres_exatas = mulheres_exatas/total_exatas*100\n",
    "porcentagem_mulheres.head()"
   ]
  },
  {
   "cell_type": "code",
   "execution_count": null,
   "metadata": {},
   "outputs": [],
   "source": [
    "plt.plot(porcentagem_mulheres_exatas.ano_ingresso,porcentagem_mulheres_exatas.generos,c='red',label='Mulheres')\n",
    "plt.plot(porcentagem_mulheres_exatas.ano_ingresso,100 - porcentagem_mulheres_exatas.generos,c='blue',label='Homens')\n",
    "plt.legend(loc='best')\n",
    "plt.title(\"Diferença percentual por gênero no ingresso entre 2012 a 2017\")\n",
    "plt.ylabel(\"%\")\n",
    "plt.show()"
   ]
  },
  {
   "cell_type": "markdown",
   "metadata": {},
   "source": [
    " "
   ]
  },
  {
   "cell_type": "markdown",
   "metadata": {},
   "source": [
    " "
   ]
  },
  {
   "cell_type": "markdown",
   "metadata": {},
   "source": [
    "Partimos agora para uma análise rápida dos professores."
   ]
  },
  {
   "cell_type": "markdown",
   "metadata": {},
   "source": [
    "Fazemos a leitura do dataset que representa o universo dos professores ativos da UFRN, considerando as colunas úteis. Logo após, separamos a parte do ano na coluna admissao através da função split e convertemos para inteiro com a astype. Criamos a coluna gênero."
   ]
  },
  {
   "cell_type": "code",
   "execution_count": 10,
   "metadata": {},
   "outputs": [],
   "source": [
    "url_docentes = 'http://bit.do/docentes_ufrn'\n",
    "docentes = pd.read_csv(url_docentes, sep=';', usecols=['nome','formacao','admissao','lotacao'])"
   ]
  },
  {
   "cell_type": "code",
   "execution_count": 11,
   "metadata": {},
   "outputs": [],
   "source": [
    "docentes['admissao'] = docentes.admissao.str.split('-').str[0]\n",
    "docentes['admissao'] = docentes['admissao'].astype(int)"
   ]
  },
  {
   "cell_type": "code",
   "execution_count": 12,
   "metadata": {},
   "outputs": [],
   "source": [
    "generos = []\n",
    "for i in docentes.nome:\n",
    "    primeiro_nome = i.split()[0]\n",
    "    genero = robjects.r.get_gender(primeiro_nome)\n",
    "    genero = genero.r_repr()\n",
    "    genero = genero.strip('\\\"')\n",
    "    if genero.startswith('NA'):\n",
    "        genero = None\n",
    "    generos.append(genero)\n",
    "    \n",
    "docentes[\"generos\"] = generos"
   ]
  },
  {
   "cell_type": "code",
   "execution_count": 13,
   "metadata": {},
   "outputs": [],
   "source": [
    "docentes.to_csv(\"docentes.csv\")"
   ]
  },
  {
   "cell_type": "code",
   "execution_count": 117,
   "metadata": {},
   "outputs": [],
   "source": [
    "docentes = pd.read_csv(\"docentes.csv\")"
   ]
  },
  {
   "cell_type": "code",
   "execution_count": 132,
   "metadata": {
    "scrolled": true
   },
   "outputs": [
    {
     "data": {
      "text/html": [
       "<div>\n",
       "<style scoped>\n",
       "    .dataframe tbody tr th:only-of-type {\n",
       "        vertical-align: middle;\n",
       "    }\n",
       "\n",
       "    .dataframe tbody tr th {\n",
       "        vertical-align: top;\n",
       "    }\n",
       "\n",
       "    .dataframe thead th {\n",
       "        text-align: right;\n",
       "    }\n",
       "</style>\n",
       "<table border=\"1\" class=\"dataframe\">\n",
       "  <thead>\n",
       "    <tr style=\"text-align: right;\">\n",
       "      <th></th>\n",
       "      <th>Unnamed: 0</th>\n",
       "      <th>nome</th>\n",
       "      <th>formacao</th>\n",
       "      <th>lotacao</th>\n",
       "      <th>admissao</th>\n",
       "      <th>generos</th>\n",
       "    </tr>\n",
       "  </thead>\n",
       "  <tbody>\n",
       "    <tr>\n",
       "      <th>0</th>\n",
       "      <td>0</td>\n",
       "      <td>MARIA NUBIA PESSOA</td>\n",
       "      <td>ESPECIALIZAÇÃO</td>\n",
       "      <td>NÚCLEO DE EDUCAÇÃO DA INFÂNCIA</td>\n",
       "      <td>2010</td>\n",
       "      <td>Female</td>\n",
       "    </tr>\n",
       "    <tr>\n",
       "      <th>1</th>\n",
       "      <td>1</td>\n",
       "      <td>RUTILENE SANTOS DE SOUSA</td>\n",
       "      <td>MESTRADO</td>\n",
       "      <td>NÚCLEO DE EDUCAÇÃO DA INFÂNCIA</td>\n",
       "      <td>2009</td>\n",
       "      <td>Female</td>\n",
       "    </tr>\n",
       "    <tr>\n",
       "      <th>2</th>\n",
       "      <td>2</td>\n",
       "      <td>ADAUTO CHIAMENTI</td>\n",
       "      <td>DOUTORADO</td>\n",
       "      <td>ESCOLA AGRÍCOLA DE JUNDIAÍ</td>\n",
       "      <td>1988</td>\n",
       "      <td>Male</td>\n",
       "    </tr>\n",
       "    <tr>\n",
       "      <th>3</th>\n",
       "      <td>3</td>\n",
       "      <td>ADELE GUIMARAES UBARANA SANTOS</td>\n",
       "      <td>MESTRADO</td>\n",
       "      <td>NÚCLEO DE EDUCAÇÃO DA INFÂNCIA</td>\n",
       "      <td>2006</td>\n",
       "      <td>Female</td>\n",
       "    </tr>\n",
       "    <tr>\n",
       "      <th>4</th>\n",
       "      <td>4</td>\n",
       "      <td>AFRANIO CESAR DE ARAUJO</td>\n",
       "      <td>DOUTORADO</td>\n",
       "      <td>ESCOLA AGRÍCOLA DE JUNDIAÍ</td>\n",
       "      <td>2008</td>\n",
       "      <td>Male</td>\n",
       "    </tr>\n",
       "  </tbody>\n",
       "</table>\n",
       "</div>"
      ],
      "text/plain": [
       "   Unnamed: 0                            nome        formacao  \\\n",
       "0           0              MARIA NUBIA PESSOA  ESPECIALIZAÇÃO   \n",
       "1           1        RUTILENE SANTOS DE SOUSA        MESTRADO   \n",
       "2           2                ADAUTO CHIAMENTI       DOUTORADO   \n",
       "3           3  ADELE GUIMARAES UBARANA SANTOS        MESTRADO   \n",
       "4           4         AFRANIO CESAR DE ARAUJO       DOUTORADO   \n",
       "\n",
       "                          lotacao  admissao generos  \n",
       "0  NÚCLEO DE EDUCAÇÃO DA INFÂNCIA      2010  Female  \n",
       "1  NÚCLEO DE EDUCAÇÃO DA INFÂNCIA      2009  Female  \n",
       "2      ESCOLA AGRÍCOLA DE JUNDIAÍ      1988    Male  \n",
       "3  NÚCLEO DE EDUCAÇÃO DA INFÂNCIA      2006  Female  \n",
       "4      ESCOLA AGRÍCOLA DE JUNDIAÍ      2008    Male  "
      ]
     },
     "execution_count": 132,
     "metadata": {},
     "output_type": "execute_result"
    }
   ],
   "source": [
    "docentes.head()"
   ]
  },
  {
   "cell_type": "markdown",
   "metadata": {},
   "source": [
    " "
   ]
  },
  {
   "cell_type": "markdown",
   "metadata": {},
   "source": [
    "  "
   ]
  },
  {
   "cell_type": "markdown",
   "metadata": {},
   "source": [
    "Número Geral de Professores Ativos da UFRN "
   ]
  },
  {
   "cell_type": "code",
   "execution_count": 133,
   "metadata": {},
   "outputs": [
    {
     "data": {
      "text/plain": [
       "Male      1219\n",
       "Female     970\n",
       "Name: generos, dtype: int64"
      ]
     },
     "execution_count": 133,
     "metadata": {},
     "output_type": "execute_result"
    }
   ],
   "source": [
    "docentes.generos.value_counts()"
   ]
  },
  {
   "cell_type": "markdown",
   "metadata": {},
   "source": [
    " "
   ]
  },
  {
   "cell_type": "markdown",
   "metadata": {},
   "source": [
    " "
   ]
  },
  {
   "cell_type": "markdown",
   "metadata": {},
   "source": [
    "Número de Professores Ativos por Ano de Ingresso"
   ]
  },
  {
   "cell_type": "code",
   "execution_count": 134,
   "metadata": {},
   "outputs": [],
   "source": [
    "professoras = docentes[docentes.generos == 'Female']\n",
    "professores = docentes[docentes.generos == 'Male']"
   ]
  },
  {
   "cell_type": "markdown",
   "metadata": {},
   "source": [
    " "
   ]
  },
  {
   "cell_type": "markdown",
   "metadata": {},
   "source": [
    " "
   ]
  },
  {
   "cell_type": "markdown",
   "metadata": {},
   "source": [
    "Nós atribuimos as variáveis professores e professoras todas as linhas que representam homens e mulheres, respectivamente. Daí criamos uma figura e adicionamos dois gráficos a ela, um com o número de professores ativos e o outro com o \n",
    "de professoras ativas. Como parâmetro para os dois gráficos fornecemos as variáveis que possuem os dados de cada sexo, \n",
    "professores e professoras, o número 64 que guardará o número de professores no intervalo de 1 ano, além do intervalo gerado de 1954 a 2018."
   ]
  },
  {
   "cell_type": "code",
   "execution_count": 135,
   "metadata": {},
   "outputs": [
    {
     "data": {
      "image/png": "[encoded data removed]",
      "text/plain": [
       "<Figure size 1440x1008 with 2 Axes>"
      ]
     },
     "metadata": {},
     "output_type": "display_data"
    }
   ],
   "source": [
    "#Número de Professores ainda ativos\n",
    "fig = plt.figure(figsize=(20,14))\n",
    "ax1 = fig.add_subplot(3,3,1)\n",
    "ax2 = fig.add_subplot(3,3,2)\n",
    "ax1.hist(professores.admissao, bins=64, range=(1954,2018), color='green', label='Homens')\n",
    "ax1.legend(loc='upper left')\n",
    "ax1.set_ylim(0,200)\n",
    "ax2.set_ylim(0,200)\n",
    "ax2.hist(professoras.admissao, bins=64, range=(1954,2018), color='purple', label='Mulheres')\n",
    "ax2.legend(loc='upper left')\n",
    "plt.show()"
   ]
  },
  {
   "cell_type": "markdown",
   "metadata": {},
   "source": [
    " "
   ]
  },
  {
   "cell_type": "markdown",
   "metadata": {},
   "source": [
    " "
   ]
  },
  {
   "cell_type": "markdown",
   "metadata": {},
   "source": [
    "Número de Professores com Mestrado e doutorado por Gênero "
   ]
  },
  {
   "cell_type": "markdown",
   "metadata": {},
   "source": [
    "Por primeiro, descobrimos o número de homens e mulheres com mestrado e doutorado. Guardamos isso numa lista e a usamos como parâmetro para criar um novo gráfico de barras. Pela discrepância numérica que há entre o número de professores em cada uma das formações precisamos ajustar os limites do eixo y a título de organização. "
   ]
  },
  {
   "cell_type": "code",
   "execution_count": 142,
   "metadata": {},
   "outputs": [
    {
     "data": {
      "text/plain": [
       "176"
      ]
     },
     "execution_count": 142,
     "metadata": {},
     "output_type": "execute_result"
    }
   ],
   "source": [
    "mestrado_homens = docentes[(docentes.formacao == 'MESTRADO') & (docentes.generos == 'Male')]\n",
    "len(mestrado_homens)"
   ]
  },
  {
   "cell_type": "code",
   "execution_count": 143,
   "metadata": {},
   "outputs": [
    {
     "data": {
      "text/plain": [
       "134"
      ]
     },
     "execution_count": 143,
     "metadata": {},
     "output_type": "execute_result"
    }
   ],
   "source": [
    "mestrado_mulheres = docentes[(docentes.formacao == 'MESTRADO') & (docentes.generos == 'Female')]\n",
    "len(mestrado_mulheres)"
   ]
  },
  {
   "cell_type": "code",
   "execution_count": 144,
   "metadata": {},
   "outputs": [
    {
     "data": {
      "text/plain": [
       "979"
      ]
     },
     "execution_count": 144,
     "metadata": {},
     "output_type": "execute_result"
    }
   ],
   "source": [
    "doutorado_homens = docentes[(docentes.formacao == 'DOUTORADO') & (docentes.generos == 'Male')]\n",
    "len(doutorado_homens)"
   ]
  },
  {
   "cell_type": "code",
   "execution_count": 145,
   "metadata": {},
   "outputs": [
    {
     "data": {
      "text/plain": [
       "772"
      ]
     },
     "execution_count": 145,
     "metadata": {},
     "output_type": "execute_result"
    }
   ],
   "source": [
    "doutorado_mulheres = docentes[(docentes.formacao == 'DOUTORADO') & (docentes.generos == 'Female')]\n",
    "len(doutorado_mulheres)"
   ]
  },
  {
   "cell_type": "markdown",
   "metadata": {},
   "source": [
    " "
   ]
  },
  {
   "cell_type": "markdown",
   "metadata": {},
   "source": [
    "  "
   ]
  },
  {
   "cell_type": "code",
   "execution_count": 160,
   "metadata": {},
   "outputs": [
    {
     "data": {
      "image/png": "[encoded data removed]",
      "text/plain": [
       "<Figure size 1080x864 with 2 Axes>"
      ]
     },
     "metadata": {},
     "output_type": "display_data"
    }
   ],
   "source": [
    "mestrado = [176,134]\n",
    "doutorado = [979,772]\n",
    "\n",
    "from numpy import arange\n",
    "fig = plt.figure(figsize=(15,12))\n",
    "ax1 = fig.add_subplot(2,2,1)\n",
    "ax2 = fig.add_subplot(2,2,2)\n",
    "posicao = arange(2) + 1\n",
    "ax1.bar(posicao, mestrado, 0.5, color=['blue','red'])\n",
    "ax1.set_ylim(0,200)\n",
    "ax2.set_ylim(0,1200)\n",
    "indices = range(1,3)\n",
    "coluna = ['Homens','Mulheres']\n",
    "ax1.set_xticks(indices)\n",
    "ax2.set_xticks(indices)\n",
    "ax1.set_xticklabels(coluna)\n",
    "ax2.set_xticklabels(coluna)\n",
    "ax2.bar(posicao, doutorado, 0.5, color=['blue','red'])\n",
    "plt.show()"
   ]
  },
  {
   "cell_type": "markdown",
   "metadata": {},
   "source": [
    " "
   ]
  },
  {
   "cell_type": "markdown",
   "metadata": {},
   "source": [
    "Número de Professores Admitidos por Gênero ao Longo dos Anos"
   ]
  },
  {
   "cell_type": "markdown",
   "metadata": {},
   "source": [
    "Nesse caso, há um problema na coluna categoria, pois existe um erro na palavra 'docente \\n'. Contudo, a partir da função set é possível perceber que além de 'docente \\n', só há mais uma outra categoria 'Técnico Administrativo'. Portanto, podemos atribuir às variáveis serv_professores e serv_professoras, além do gênero, todas as linhas que não tem 'Técnico \n",
    "Administrativo' na coluna categoria. O gráfico agora pode assim ser facilmente gerado. "
   ]
  },
  {
   "cell_type": "code",
   "execution_count": 106,
   "metadata": {},
   "outputs": [],
   "source": [
    "serv_professoras = servidores[(servidores.categoria != 'Técnico Administrativo') & (servidores.generos == 'Female')]\n",
    "serv_professores = servidores[(servidores.categoria != 'Técnico Administrativo') & (servidores.generos == 'Male')]"
   ]
  },
  {
   "cell_type": "code",
   "execution_count": 155,
   "metadata": {},
   "outputs": [
    {
     "data": {
      "image/png": "[encoded data removed]",
      "text/plain": [
       "<Figure size 1440x1008 with 2 Axes>"
      ]
     },
     "metadata": {},
     "output_type": "display_data"
    }
   ],
   "source": [
    "fig = plt.figure(figsize=(20,14))\n",
    "ax1 = fig.add_subplot(3,3,1)\n",
    "ax2 = fig.add_subplot(3,3,2)\n",
    "ax1.hist(serv_professores.admissao, bins=64, range=(1954,2018), color='green',label='Homens')\n",
    "ax2.hist(serv_professoras.admissao, bins=64, range=(1954,2018), color='purple',label='Mulheres')\n",
    "ax1.legend(loc='upper left')\n",
    "ax2.legend(loc='upper left')\n",
    "ax1.set_ylim(0,200)\n",
    "ax2.set_ylim(0,200)\n",
    "ax1.set_title(\"Homens\")\n",
    "ax2.set_title(\"Mulheres\")\n",
    "plt.show()"
   ]
  }
 ],
 "metadata": {
  "kernelspec": {
   "display_name": "Python 3",
   "language": "python",
   "name": "python3"
  },
  "language_info": {
   "codemirror_mode": {
    "name": "ipython",
    "version": 3
   },
   "file_extension": ".py",
   "mimetype": "text/x-python",
   "name": "python",
   "nbconvert_exporter": "python",
   "pygments_lexer": "ipython3",
   "version": "3.6.4"
  }
 },
 "nbformat": 4,
 "nbformat_minor": 2
}
